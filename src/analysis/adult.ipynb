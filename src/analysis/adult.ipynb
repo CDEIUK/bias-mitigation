{
 "cells": [
  {
   "cell_type": "markdown",
   "metadata": {},
   "source": [
    "# Adult analysis\n",
    "\n",
    "This notebook contains preliminary analysis of the Adult dataset."
   ]
  },
  {
   "cell_type": "code",
   "execution_count": null,
   "metadata": {},
   "outputs": [],
   "source": [
    "from pathlib import Path\n",
    "\n",
    "import joblib\n",
    "import numpy as np\n",
    "import pandas as pd\n",
    "import plotly.express as px\n",
    "import plotly.graph_objs as go\n",
    "from cdei_helpers.plot import group_box_plots, group_roc_curves\n",
    "from sklearn.neural_network import MLPClassifier"
   ]
  },
  {
   "cell_type": "code",
   "execution_count": null,
   "metadata": {},
   "outputs": [],
   "source": [
    "# temporary platform specific path\n",
    "data_dir = Path(\"/project/data/adult\")"
   ]
  },
  {
   "cell_type": "markdown",
   "metadata": {},
   "source": [
    "Load data."
   ]
  },
  {
   "cell_type": "code",
   "execution_count": null,
   "metadata": {},
   "outputs": [],
   "source": [
    "train = pd.read_csv(data_dir / \"processed\" / \"train.csv\")\n",
    "val = pd.read_csv(data_dir / \"processed\" / \"val.csv\")\n",
    "test = pd.read_csv(data_dir / \"processed\" / \"test.csv\")\n",
    "\n",
    "train_oh = pd.read_csv(data_dir / \"processed\" / \"train-one-hot.csv\")\n",
    "val_oh = pd.read_csv(data_dir / \"processed\" / \"val-one-hot.csv\")\n",
    "test_oh = pd.read_csv(data_dir / \"processed\" / \"test-one-hot.csv\")"
   ]
  },
  {
   "cell_type": "markdown",
   "metadata": {},
   "source": [
    "## Bias in data\n",
    "\n",
    "Visualise biases present in the data"
   ]
  },
  {
   "cell_type": "code",
   "execution_count": null,
   "metadata": {},
   "outputs": [],
   "source": [
    "salary_by_sex = train[[\"sex\", \"salary\"]].groupby(\"sex\").mean()\n",
    "\n",
    "go.Figure(\n",
    "    [go.Bar(x=[\"Female\", \"Male\"], y=salary_by_sex.salary)],\n",
    "    go.Layout(yaxis={\"range\": [0, 1]}),\n",
    ")"
   ]
  },
  {
   "cell_type": "code",
   "execution_count": null,
   "metadata": {},
   "outputs": [],
   "source": [
    "salary_by_race = train[[\"race\", \"salary\"]].groupby(\"race\").mean()\n",
    "\n",
    "go.Figure(\n",
    "    [\n",
    "        go.Bar(\n",
    "            x=[\n",
    "                \"American Indian / Eskimo\",\n",
    "                \"Asian / Pacific Islander\",\n",
    "                \"Black\",\n",
    "                \"Other\",\n",
    "                \"White\",\n",
    "            ],\n",
    "            y=salary_by_race.salary,\n",
    "        )\n",
    "    ],\n",
    "    go.Layout(yaxis={\"range\": [0, 1]}),\n",
    ")"
   ]
  },
  {
   "cell_type": "markdown",
   "metadata": {},
   "source": [
    "### Possible resolving variables\n",
    "\n",
    "Let's look at the relationship between hours per week and salary."
   ]
  },
  {
   "cell_type": "code",
   "execution_count": null,
   "metadata": {},
   "outputs": [],
   "source": [
    "salary_by_hours_per_week = (\n",
    "    val[[\"hours_per_week\", \"salary\"]]\n",
    "    .groupby(\"hours_per_week\")\n",
    "    .aggregate([\"mean\", \"count\"])\n",
    "    .reset_index()\n",
    ")"
   ]
  },
  {
   "cell_type": "code",
   "execution_count": null,
   "metadata": {},
   "outputs": [],
   "source": [
    "go.Figure(\n",
    "    go.Scatter(\n",
    "        x=salary_by_hours_per_week.hours_per_week,\n",
    "        y=salary_by_hours_per_week[\"salary\"][\"mean\"],\n",
    "        marker={\"size\": salary_by_hours_per_week[\"salary\"][\"count\"] / 50},\n",
    "        mode=\"markers\",\n",
    "    )\n",
    ")"
   ]
  },
  {
   "cell_type": "markdown",
   "metadata": {},
   "source": [
    "## Training a model to predict salary"
   ]
  },
  {
   "cell_type": "code",
   "execution_count": null,
   "metadata": {},
   "outputs": [],
   "source": [
    "model = MLPClassifier(hidden_layer_sizes=(100, 100), early_stopping=True,)\n",
    "\n",
    "model.fit(train_oh.drop(columns=\"salary\"), train_oh.salary)\n",
    "\n",
    "val_prob = model.predict_proba(val_oh.drop(columns=\"salary\"))[:, 1]\n",
    "val_accuracy = model.score(val_oh.drop(columns=\"salary\"), val_oh.salary)\n",
    "print(f\"Validation accuracy: {val_accuracy * 100:.2f}%\")"
   ]
  },
  {
   "cell_type": "markdown",
   "metadata": {},
   "source": [
    "## Demographic parity\n",
    "\n",
    "Distribution of outcomes for different sexes."
   ]
  },
  {
   "cell_type": "code",
   "execution_count": null,
   "metadata": {},
   "outputs": [],
   "source": [
    "go.Figure(\n",
    "    data=[\n",
    "        go.Box(\n",
    "            x=[sex] * (val.sex == sex).sum(),\n",
    "            y=val_prob[val.sex == sex],\n",
    "            name=\"Male\" if sex else \"Female\",\n",
    "        )\n",
    "        for sex in range(2)\n",
    "    ]\n",
    ")"
   ]
  },
  {
   "cell_type": "markdown",
   "metadata": {},
   "source": [
    "Distribution of outcomes for different races."
   ]
  },
  {
   "cell_type": "code",
   "execution_count": null,
   "metadata": {},
   "outputs": [],
   "source": [
    "go.Figure(\n",
    "    data=[\n",
    "        go.Box(\n",
    "            x=[race] * (val.race == race).sum(),\n",
    "            y=val_prob[val.race == race],\n",
    "            name=race,\n",
    "        )\n",
    "        for race in set(val.race)\n",
    "    ]\n",
    ")"
   ]
  },
  {
   "cell_type": "markdown",
   "metadata": {},
   "source": [
    "## Conditional demographic parity\n",
    "\n",
    "Distribution by sex and hours worked per week."
   ]
  },
  {
   "cell_type": "code",
   "execution_count": null,
   "metadata": {},
   "outputs": [],
   "source": [
    "def enumerate_hours_per_week(hpw):\n",
    "    if hpw <= 30:\n",
    "        return 0\n",
    "    elif hpw <= 40:\n",
    "        return 1\n",
    "    elif hpw <= 50:\n",
    "        return 2\n",
    "    return 3\n",
    "\n",
    "\n",
    "val_hpw_enum = val.hours_per_week.map(enumerate_hours_per_week)\n",
    "\n",
    "group_box_plots(\n",
    "    val_prob, val_hpw_enum, val.sex.map(lambda x: \"Male\" if x else \"Female\")\n",
    ")"
   ]
  },
  {
   "cell_type": "markdown",
   "metadata": {},
   "source": [
    "Distribution by race and hours worked per week."
   ]
  },
  {
   "cell_type": "code",
   "execution_count": null,
   "metadata": {},
   "outputs": [],
   "source": [
    "group_box_plots(val_prob, val_hpw_enum, val.race)"
   ]
  },
  {
   "cell_type": "markdown",
   "metadata": {},
   "source": [
    "# Equalised odds\n",
    "\n",
    "ROC curves by sex"
   ]
  },
  {
   "cell_type": "code",
   "execution_count": null,
   "metadata": {},
   "outputs": [],
   "source": [
    "group_roc_curves(\n",
    "    val.salary, val_prob, val.sex.map(lambda x: \"Male\" if x else \"Female\")\n",
    ")"
   ]
  },
  {
   "cell_type": "markdown",
   "metadata": {},
   "source": [
    "ROC curves by race"
   ]
  },
  {
   "cell_type": "code",
   "execution_count": null,
   "metadata": {},
   "outputs": [],
   "source": [
    "group_roc_curves(val.salary, val_prob, val.race)"
   ]
  },
  {
   "cell_type": "markdown",
   "metadata": {},
   "source": [
    "## Save model for later comparison"
   ]
  },
  {
   "cell_type": "code",
   "execution_count": null,
   "metadata": {},
   "outputs": [],
   "source": [
    "joblib.dump(model, \"/project/data/adult/baseline.pkl\")"
   ]
  }
 ],
 "metadata": {
  "kernelspec": {
   "display_name": "Python [conda env:Python3]",
   "language": "python",
   "name": "conda-env-Python3-py"
  },
  "language_info": {
   "codemirror_mode": {
    "name": "ipython",
    "version": 3
   },
   "file_extension": ".py",
   "mimetype": "text/x-python",
   "name": "python",
   "nbconvert_exporter": "python",
   "pygments_lexer": "ipython3",
   "version": "3.6.10"
  }
 },
 "nbformat": 4,
 "nbformat_minor": 2
}
