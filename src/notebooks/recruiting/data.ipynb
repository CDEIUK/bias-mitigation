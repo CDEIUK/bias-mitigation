{
 "cells": [
  {
   "cell_type": "markdown",
   "metadata": {},
   "source": [
    "# Recruiting data analysis\n",
    "\n",
    "In this notebook we do some basic analysis of the synthetic recruiting data, to understand existing biases before training a model."
   ]
  },
  {
   "cell_type": "code",
   "execution_count": null,
   "metadata": {},
   "outputs": [],
   "source": [
    "from pathlib import Path\n",
    "\n",
    "import pandas as pd\n",
    "from helpers.recruiting import bin_years_experience\n",
    "from helpers.plot import bar_chart"
   ]
  },
  {
   "cell_type": "code",
   "execution_count": null,
   "metadata": {
    "tags": [
     "export"
    ]
   },
   "outputs": [],
   "source": [
    "from helpers import export_plot"
   ]
  },
  {
   "cell_type": "markdown",
   "metadata": {},
   "source": [
    "Directory for saving all processed data."
   ]
  },
  {
   "cell_type": "code",
   "execution_count": null,
   "metadata": {},
   "outputs": [],
   "source": [
    "artifacts_dir = Path(\"../../artifacts\")"
   ]
  },
  {
   "cell_type": "code",
   "execution_count": null,
   "metadata": {
    "tags": [
     "export"
    ]
   },
   "outputs": [],
   "source": [
    "# override data_dir in source notebook\n",
    "# this is stripped out for the hosted notebooks\n",
    "artifacts_dir = Path(\"../../../artifacts\")"
   ]
  },
  {
   "cell_type": "markdown",
   "metadata": {},
   "source": [
    "Load the preprocessed data. Check out the preprocessing notebook for details on how this data was obtained."
   ]
  },
  {
   "cell_type": "code",
   "execution_count": null,
   "metadata": {},
   "outputs": [],
   "source": [
    "data_dir = artifacts_dir / \"data\" / \"recruiting\"\n",
    "\n",
    "test = pd.read_csv(data_dir / \"processed\" / \"test.csv\")\n",
    "test_raw = pd.read_csv(data_dir / \"raw\" / \"test.csv\")"
   ]
  },
  {
   "cell_type": "markdown",
   "metadata": {},
   "source": [
    "## Bias in data\n",
    "\n",
    "Visualise biases present in the data"
   ]
  },
  {
   "cell_type": "code",
   "execution_count": null,
   "metadata": {},
   "outputs": [],
   "source": [
    "employed_by_sex = test[[\"sex_male\", \"employed_yes\"]].groupby(\"sex_male\").mean()\n",
    "\n",
    "fig_employed_by_sex = bar_chart(\n",
    "    x=[\"Female\", \"Male\"],\n",
    "    y=employed_by_sex.employed_yes,\n",
    "    title=\"Propotion of applicants employed by sex\",\n",
    "    ylabel=\"Proportion\",\n",
    ")\n",
    "fig_employed_by_sex"
   ]
  },
  {
   "cell_type": "code",
   "execution_count": null,
   "metadata": {
    "tags": [
     "export"
    ]
   },
   "outputs": [],
   "source": [
    "export_plot(fig_employed_by_sex, \"employed_by_sex.json\")"
   ]
  },
  {
   "cell_type": "code",
   "execution_count": null,
   "metadata": {},
   "outputs": [],
   "source": [
    "employed_by_race = (\n",
    "    test[[\"race_white\", \"employed_yes\"]].groupby(\"race_white\").mean()\n",
    ")\n",
    "\n",
    "fig_employed_by_race = bar_chart(\n",
    "    x=[\"Black\", \"White\"],\n",
    "    y=employed_by_race.employed_yes,\n",
    "    title=\"Propotion of applicants employed by race\",\n",
    "    ylabel=\"Proportion\",\n",
    ")\n",
    "fig_employed_by_race"
   ]
  },
  {
   "cell_type": "code",
   "execution_count": null,
   "metadata": {
    "tags": [
     "export"
    ]
   },
   "outputs": [],
   "source": [
    "export_plot(fig_employed_by_race, \"employed_by_race.json\")"
   ]
  },
  {
   "cell_type": "markdown",
   "metadata": {},
   "source": [
    "### Possible resolving variables\n",
    "\n",
    "Let's look at the relationship between years of experience and whether the applicant was employed."
   ]
  },
  {
   "cell_type": "code",
   "execution_count": null,
   "metadata": {},
   "outputs": [],
   "source": [
    "employed_by_experience = (\n",
    "    test.assign(exp=test_raw.years_experience.map(bin_years_experience))\n",
    "    .loc[:, [\"exp\", \"employed_yes\"]]\n",
    "    .groupby(\"exp\")\n",
    "    .aggregate([\"mean\", \"count\"])\n",
    "    .reset_index()\n",
    ")\n",
    "\n",
    "fig_employed_by_experience = bar_chart(\n",
    "    x=employed_by_experience.exp,\n",
    "    y=employed_by_experience[\"employed_yes\"][\"mean\"],\n",
    "    title=\"Proportion of applicants employed by years of experience\",\n",
    "    ylabel=\"Proportion\",\n",
    "    xticks={\n",
    "        \"tickvals\": [0, 1, 2, 3],\n",
    "        \"ticktext\": [\"0-2 years\", \"3-5 years\", \"6-9 years\", \"10+ years\"],\n",
    "    },\n",
    ")\n",
    "fig_employed_by_experience"
   ]
  },
  {
   "cell_type": "code",
   "execution_count": null,
   "metadata": {
    "tags": [
     "export"
    ]
   },
   "outputs": [],
   "source": [
    "export_plot(\n",
    "    fig_employed_by_experience, \"employed_by_experience.json\",\n",
    ")"
   ]
  }
 ],
 "metadata": {
  "celltoolbar": "Tags",
  "kernelspec": {
   "display_name": "Python [conda env:Python3]",
   "language": "python",
   "name": "conda-env-Python3-py"
  },
  "language_info": {
   "codemirror_mode": {
    "name": "ipython",
    "version": 3
   },
   "file_extension": ".py",
   "mimetype": "text/x-python",
   "name": "python",
   "nbconvert_exporter": "python",
   "pygments_lexer": "ipython3",
   "version": "3.6.10"
  },
  "toc": {
   "base_numbering": 1,
   "nav_menu": {},
   "number_sections": true,
   "sideBar": true,
   "skip_h1_title": false,
   "title_cell": "Table of Contents",
   "title_sidebar": "Contents",
   "toc_cell": false,
   "toc_position": {},
   "toc_section_display": true,
   "toc_window_display": false
  }
 },
 "nbformat": 4,
 "nbformat_minor": 2
}
