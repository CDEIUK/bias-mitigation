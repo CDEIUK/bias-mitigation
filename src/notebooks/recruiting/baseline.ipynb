{
 "cells": [
  {
   "cell_type": "markdown",
   "metadata": {},
   "source": [
    "# Baseline model for recruiting data\n",
    "\n",
    "In this notebook we train a simple model on the synthetic recruiting data that can serve as a counterfactual for what would have happened if we hadn't made any kind of fairness intervention."
   ]
  },
  {
   "cell_type": "code",
   "execution_count": null,
   "metadata": {},
   "outputs": [],
   "source": [
    "import joblib\n",
    "from pathlib import Path\n",
    "\n",
    "import numpy as np\n",
    "import pandas as pd\n",
    "from helpers.finance import bin_hours_per_week\n",
    "from helpers.plot import group_box_plots\n",
    "from sklearn.neural_network import MLPClassifier  # noqa"
   ]
  },
  {
   "cell_type": "code",
   "execution_count": null,
   "metadata": {
    "tags": [
     "export"
    ]
   },
   "outputs": [],
   "source": [
    "from helpers import export_plot"
   ]
  },
  {
   "cell_type": "markdown",
   "metadata": {},
   "source": [
    "Directory containing preprocessed data."
   ]
  },
  {
   "cell_type": "code",
   "execution_count": null,
   "metadata": {},
   "outputs": [],
   "source": [
    "artifacts_dir = Path(\"../../artifacts\")"
   ]
  },
  {
   "cell_type": "code",
   "execution_count": null,
   "metadata": {
    "tags": [
     "export"
    ]
   },
   "outputs": [],
   "source": [
    "# override data_dir in source notebook\n",
    "# this is stripped out for the hosted notebooks\n",
    "artifacts_dir = Path(\"../../../artifacts\")"
   ]
  },
  {
   "cell_type": "markdown",
   "metadata": {},
   "source": [
    "Load the preprocessed data. Check out the preprocessing notebook for details on how this data was obtained."
   ]
  },
  {
   "cell_type": "code",
   "execution_count": null,
   "metadata": {},
   "outputs": [],
   "source": [
    "data_dir = artifacts_dir / \"data\" / \"recruiting\"\n",
    "\n",
    "train = pd.read_csv(data_dir / \"processed\" / \"train.csv\")\n",
    "val = pd.read_csv(data_dir / \"processed\" / \"val.csv\")\n",
    "test = pd.read_csv(data_dir / \"processed\" / \"test.csv\")"
   ]
  },
  {
   "cell_type": "markdown",
   "metadata": {},
   "source": [
    "## Training a model to predict salary\n",
    "\n",
    "We will load a model from disk so that results are reproducible, but commented out here is the code we used to train the model."
   ]
  },
  {
   "cell_type": "code",
   "execution_count": null,
   "metadata": {},
   "outputs": [],
   "source": [
    "# model = MLPClassifier(hidden_layer_sizes=(100, 100), early_stopping=True)\n",
    "\n",
    "# model.fit(train.drop(columns=\"employed_yes\"), train.salary)"
   ]
  },
  {
   "cell_type": "markdown",
   "metadata": {},
   "source": [
    "Load the pretrained model"
   ]
  },
  {
   "cell_type": "code",
   "execution_count": null,
   "metadata": {},
   "outputs": [],
   "source": [
    "model = joblib.load(artifacts_dir / \"models\" / \"finance\" / \"baseline.pkl\")"
   ]
  },
  {
   "cell_type": "markdown",
   "metadata": {},
   "source": [
    "Model accuracy on validation set"
   ]
  },
  {
   "cell_type": "code",
   "execution_count": null,
   "metadata": {},
   "outputs": [],
   "source": [
    "val_prob = model.predict_proba(val_oh.drop(columns=\"salary\"))[:, 1]\n",
    "val_accuracy = model.score(val_oh.drop(columns=\"salary\"), val_oh.salary)\n",
    "print(f\"Validation accuracy: {val_accuracy * 100:.2f}%\")"
   ]
  },
  {
   "cell_type": "markdown",
   "metadata": {},
   "source": [
    "## Demographic parity\n",
    "\n",
    "Distribution of outcomes for different sexes."
   ]
  },
  {
   "cell_type": "code",
   "execution_count": null,
   "metadata": {},
   "outputs": [],
   "source": [
    "fig_dp_by_sex = group_box_plots(\n",
    "    val_prob,\n",
    "    np.zeros_like(val_prob),\n",
    "    val.sex.map(lambda x: \"Male\" if x else \"Female\"),\n",
    "    group_names=[\"\"],\n",
    ")\n",
    "fig_dp_by_sex"
   ]
  },
  {
   "cell_type": "code",
   "execution_count": null,
   "metadata": {
    "tags": [
     "export"
    ]
   },
   "outputs": [],
   "source": [
    "export_plot(\n",
    "    fig_dp_by_sex, \"bl_dp_by_sex.json\",\n",
    ")"
   ]
  },
  {
   "cell_type": "markdown",
   "metadata": {},
   "source": [
    "Distribution of outcomes for different races."
   ]
  },
  {
   "cell_type": "code",
   "execution_count": null,
   "metadata": {},
   "outputs": [],
   "source": [
    "set(val.race)"
   ]
  },
  {
   "cell_type": "code",
   "execution_count": null,
   "metadata": {},
   "outputs": [],
   "source": [
    "race_names = {\n",
    "    \"amer_indian_eskimo\": \"American Indian / Eskimo\",\n",
    "    \"asian_pac_islander\": \"Asian / Pacific Islander\",\n",
    "    \"black\": \"Black\",\n",
    "    \"other\": \"Other\",\n",
    "    \"white\": \"White\",\n",
    "}\n",
    "\n",
    "fig_dp_by_race = group_box_plots(\n",
    "    val_prob,\n",
    "    np.zeros_like(val_prob),\n",
    "    val.race.map(race_names),\n",
    "    group_names=[\"Race\"],\n",
    ")\n",
    "fig_dp_by_race"
   ]
  },
  {
   "cell_type": "code",
   "execution_count": null,
   "metadata": {
    "tags": [
     "export"
    ]
   },
   "outputs": [],
   "source": [
    "export_plot(\n",
    "    fig_dp_by_race, \"bl_dp_by_race.json\",\n",
    ")"
   ]
  },
  {
   "cell_type": "markdown",
   "metadata": {},
   "source": [
    "## Conditional demographic parity\n",
    "\n",
    "Distribution by sex and hours worked per week."
   ]
  },
  {
   "cell_type": "code",
   "execution_count": null,
   "metadata": {},
   "outputs": [],
   "source": [
    "val_hpw_enum = val.hours_per_week.map(bin_hours_per_week)\n",
    "\n",
    "fig_cdp_by_sex = group_box_plots(\n",
    "    val_prob,\n",
    "    val_hpw_enum,\n",
    "    val.sex.map(lambda x: \"Male\" if x else \"Female\"),\n",
    "    group_names=[\"<30\", \"30-40\", \"40-50\", \">50\"],\n",
    ")\n",
    "fig_cdp_by_sex"
   ]
  },
  {
   "cell_type": "code",
   "execution_count": null,
   "metadata": {
    "tags": [
     "export"
    ]
   },
   "outputs": [],
   "source": [
    "export_plot(\n",
    "    fig_cdp_by_sex, \"bl_cdp_by_sex.json\",\n",
    ")"
   ]
  },
  {
   "cell_type": "markdown",
   "metadata": {},
   "source": [
    "Distribution by race and hours worked per week."
   ]
  },
  {
   "cell_type": "code",
   "execution_count": null,
   "metadata": {},
   "outputs": [],
   "source": [
    "fig_cdp_by_race = group_box_plots(\n",
    "    val_prob,\n",
    "    val_hpw_enum,\n",
    "    val.race.map(race_names),\n",
    "    group_names=[\"<30\", \"30-40\", \"40-50\", \">50\"],\n",
    ")\n",
    "fig_cdp_by_race"
   ]
  },
  {
   "cell_type": "code",
   "execution_count": null,
   "metadata": {
    "tags": [
     "export"
    ]
   },
   "outputs": [],
   "source": [
    "export_plot(\n",
    "    fig_cdp_by_race, \"bl_cdp_by_race.json\",\n",
    ")"
   ]
  },
  {
   "cell_type": "markdown",
   "metadata": {},
   "source": [
    "## Equalised odds\n",
    "\n",
    "To assess equalised odds we compare scores across the outcome classes."
   ]
  },
  {
   "cell_type": "code",
   "execution_count": null,
   "metadata": {},
   "outputs": [],
   "source": [
    "fig_eo_by_sex = group_box_plots(\n",
    "    val_prob,\n",
    "    val.salary,\n",
    "    val.sex.map(lambda x: \"Male\" if x else \"Female\"),\n",
    "    group_names=[\"<=$50k\", \">$50k\"],\n",
    ")\n",
    "fig_eo_by_sex"
   ]
  },
  {
   "cell_type": "code",
   "execution_count": null,
   "metadata": {
    "tags": [
     "export"
    ]
   },
   "outputs": [],
   "source": [
    "export_plot(fig_eo_by_sex, \"bl_eo_by_sex.json\")"
   ]
  },
  {
   "cell_type": "markdown",
   "metadata": {},
   "source": [
    "We do the same, comparing races."
   ]
  },
  {
   "cell_type": "code",
   "execution_count": null,
   "metadata": {},
   "outputs": [],
   "source": [
    "fig_eo_by_race = group_box_plots(\n",
    "    val_prob,\n",
    "    val.salary,\n",
    "    val.race.map(race_names),\n",
    "    group_names=[\"<=$50k\", \">$50k\"],\n",
    ")\n",
    "fig_eo_by_race"
   ]
  },
  {
   "cell_type": "code",
   "execution_count": null,
   "metadata": {
    "tags": [
     "export"
    ]
   },
   "outputs": [],
   "source": [
    "export_plot(fig_eo_by_race, \"bl_eo_by_race.json\")"
   ]
  }
 ],
 "metadata": {
  "celltoolbar": "Tags",
  "kernelspec": {
   "display_name": "Python [conda env:Python3]",
   "language": "python",
   "name": "conda-env-Python3-py"
  },
  "language_info": {
   "codemirror_mode": {
    "name": "ipython",
    "version": 3
   },
   "file_extension": ".py",
   "mimetype": "text/x-python",
   "name": "python",
   "nbconvert_exporter": "python",
   "pygments_lexer": "ipython3",
   "version": "3.6.10"
  },
  "toc": {
   "base_numbering": 1,
   "nav_menu": {},
   "number_sections": true,
   "sideBar": true,
   "skip_h1_title": false,
   "title_cell": "Table of Contents",
   "title_sidebar": "Contents",
   "toc_cell": false,
   "toc_position": {},
   "toc_section_display": true,
   "toc_window_display": false
  }
 },
 "nbformat": 4,
 "nbformat_minor": 2
}
