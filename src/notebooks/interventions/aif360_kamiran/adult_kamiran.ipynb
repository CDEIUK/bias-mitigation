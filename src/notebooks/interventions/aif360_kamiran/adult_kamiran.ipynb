{
 "cells": [
  {
   "cell_type": "code",
   "execution_count": null,
   "metadata": {},
   "outputs": [],
   "source": [
    "import numpy as np\n",
    "import pandas as pd\n",
    "import plotly.express as px\n",
    "import plotly.graph_objs as go\n",
    "\n",
    "from sklearn.neural_network import MLPClassifier\n",
    "\n",
    "from cdei_helpers.plot import group_box_plots, group_roc_curves\n",
    "from cdei_helpers.fairness_measures import *\n",
    "\n",
    "from aif360.datasets import StandardDataset\n",
    "from aif360.algorithms.postprocessing.reject_option_classification import (\n",
    "    RejectOptionClassification,\n",
    ")"
   ]
  },
  {
   "cell_type": "markdown",
   "metadata": {},
   "source": [
    "## Load data"
   ]
  },
  {
   "cell_type": "code",
   "execution_count": null,
   "metadata": {},
   "outputs": [],
   "source": [
    "train = pd.read_csv(\"/project/data/adult/processed/train-one-hot.csv\").sample(\n",
    "    6000\n",
    ")\n",
    "test = pd.read_csv(\"/project/data/adult/processed/test-one-hot.csv\").sample(\n",
    "    2000\n",
    ")\n",
    "val = pd.read_csv(\"/project/data/adult/processed/val-one-hot.csv\").sample(2000)"
   ]
  },
  {
   "cell_type": "code",
   "execution_count": null,
   "metadata": {},
   "outputs": [],
   "source": [
    "train_sds = StandardDataset(\n",
    "    train,\n",
    "    label_name=\"salary\",\n",
    "    favorable_classes=[1],\n",
    "    protected_attribute_names=[\"sex\"],\n",
    "    privileged_classes=[[1]],\n",
    ")\n",
    "test_sds = StandardDataset(\n",
    "    test,\n",
    "    label_name=\"salary\",\n",
    "    favorable_classes=[1],\n",
    "    protected_attribute_names=[\"sex\"],\n",
    "    privileged_classes=[[1]],\n",
    ")\n",
    "val_sds = StandardDataset(\n",
    "    val,\n",
    "    label_name=\"salary\",\n",
    "    favorable_classes=[1],\n",
    "    protected_attribute_names=[\"sex\"],\n",
    "    privileged_classes=[[1]],\n",
    ")"
   ]
  },
  {
   "cell_type": "code",
   "execution_count": null,
   "metadata": {},
   "outputs": [],
   "source": [
    "privileged_groups = [{\"sex\": 1.0}]\n",
    "unprivileged_groups = [{\"sex\": 0.0}]"
   ]
  },
  {
   "cell_type": "markdown",
   "metadata": {},
   "source": [
    "## Train original model"
   ]
  },
  {
   "cell_type": "code",
   "execution_count": null,
   "metadata": {},
   "outputs": [],
   "source": [
    "model = MLPClassifier(hidden_layer_sizes=(100, 100), early_stopping=True)\n",
    "model.fit(train.drop(\"salary\", axis=1), train.salary)"
   ]
  },
  {
   "cell_type": "code",
   "execution_count": null,
   "metadata": {},
   "outputs": [],
   "source": [
    "val_scores = model.predict_proba(val.drop(\"salary\", axis=1))[:, 1]"
   ]
  },
  {
   "cell_type": "code",
   "execution_count": null,
   "metadata": {},
   "outputs": [],
   "source": [
    "print(\"Original model accuracy =\", accuracy(val_scores, val.salary))\n",
    "print(\n",
    "    \"Female accuracy =\",\n",
    "    accuracy(val_scores[val.sex == 0], val.salary[val.sex == 0]),\n",
    ")\n",
    "print(\n",
    "    \"Male accuracy =\",\n",
    "    accuracy(val_scores[val.sex == 1], val.salary[val.sex == 1]),\n",
    ")\n",
    "print(\"Mean female score =\", val_scores[val.sex == 0].mean())\n",
    "print(\"Mean male score =\", val_scores[val.sex == 1].mean())"
   ]
  },
  {
   "cell_type": "code",
   "execution_count": null,
   "metadata": {},
   "outputs": [],
   "source": [
    "val_sds_pred = val_sds.copy(deepcopy=True)\n",
    "val_sds_pred.scores = val_scores.reshape(-1, 1)"
   ]
  },
  {
   "cell_type": "markdown",
   "metadata": {},
   "source": [
    "## Perform intervention"
   ]
  },
  {
   "cell_type": "markdown",
   "metadata": {},
   "source": [
    "### Find best threshold for classification only"
   ]
  },
  {
   "cell_type": "code",
   "execution_count": null,
   "metadata": {},
   "outputs": [],
   "source": [
    "from aif360.metrics import ClassificationMetric\n",
    "\n",
    "num_thresh = 100\n",
    "ba_arr = np.zeros(num_thresh)\n",
    "class_thresh_arr = np.linspace(0.01, 0.99, num_thresh)\n",
    "for idx, class_thresh in enumerate(class_thresh_arr):\n",
    "\n",
    "    fav_inds = val_sds_pred.scores > class_thresh\n",
    "    val_sds_pred.labels[fav_inds] = val_sds_pred.favorable_label\n",
    "    val_sds_pred.labels[~fav_inds] = val_sds_pred.unfavorable_label\n",
    "\n",
    "    classified_metric_orig_valid = ClassificationMetric(\n",
    "        val_sds,\n",
    "        val_sds_pred,\n",
    "        unprivileged_groups=unprivileged_groups,\n",
    "        privileged_groups=privileged_groups,\n",
    "    )\n",
    "\n",
    "    ba_arr[idx] = 0.5 * (\n",
    "        classified_metric_orig_valid.true_positive_rate()\n",
    "        + classified_metric_orig_valid.true_negative_rate()\n",
    "    )\n",
    "\n",
    "best_ind = np.where(ba_arr == np.max(ba_arr))[0][0]\n",
    "best_class_thresh = class_thresh_arr[best_ind]\n",
    "\n",
    "print(\n",
    "    \"Best balanced accuracy (no fairness constraints) = %.4f\" % np.max(ba_arr)\n",
    ")\n",
    "print(\n",
    "    \"Optimal classification threshold (no fairness constraints) = %.4f\"\n",
    "    % best_class_thresh\n",
    ")\n",
    "\n",
    "\n",
    "fav_inds = val_sds_pred.scores > 0.5\n",
    "val_sds_pred.labels[fav_inds] = val_sds_pred.favorable_label\n",
    "val_sds_pred.labels[~fav_inds] = val_sds_pred.unfavorable_label\n",
    "\n",
    "print( 'Accurac'accuracy(val_sds_pred.labels, val.salary)"
   ]
  },
  {
   "cell_type": "code",
   "execution_count": null,
   "metadata": {},
   "outputs": [],
   "source": [
    "# Metric used (should be one of allowed_metrics)\n",
    "metric_name = \"Statistical parity difference\"\n",
    "\n",
    "# Upper and lower bound on the fairness metric used\n",
    "metric_ub = 0.05\n",
    "metric_lb = -0.05"
   ]
  },
  {
   "cell_type": "markdown",
   "metadata": {},
   "source": [
    "### Estimate optimal parameters in ROC"
   ]
  },
  {
   "cell_type": "code",
   "execution_count": null,
   "metadata": {},
   "outputs": [],
   "source": [
    "ROC = RejectOptionClassification(\n",
    "    unprivileged_groups=unprivileged_groups,\n",
    "    privileged_groups=privileged_groups,\n",
    "    low_class_thresh=0.01,\n",
    "    high_class_thresh=0.99,\n",
    "    num_class_thresh=100,\n",
    "    num_ROC_margin=50,\n",
    "    metric_name=metric_name,\n",
    "    metric_ub=metric_ub,\n",
    "    metric_lb=metric_lb,\n",
    ")\n",
    "ROC = ROC.fit(val_sds, val_sds_pred)"
   ]
  },
  {
   "cell_type": "code",
   "execution_count": null,
   "metadata": {},
   "outputs": [],
   "source": [
    "print(\n",
    "    \"Optimal classification threshold (with fairness constraints) = %.4f\"\n",
    "    % ROC.classification_threshold\n",
    ")\n",
    "print(\"Optimal ROC margin = %.4f\" % ROC.ROC_margin)"
   ]
  },
  {
   "cell_type": "markdown",
   "metadata": {},
   "source": [
    "### Predictions from validation set"
   ]
  },
  {
   "cell_type": "code",
   "execution_count": null,
   "metadata": {},
   "outputs": [],
   "source": [
    "# Metrics for the test set\n",
    "fav_inds = val_sds_pred.scores > best_class_thresh\n",
    "val_sds_pred.labels[fav_inds] = val_sds_pred.favorable_label\n",
    "val_sds_pred.labels[~fav_inds] = val_sds_pred.unfavorable_label"
   ]
  },
  {
   "cell_type": "markdown",
   "metadata": {},
   "source": [
    "## Apply intervention"
   ]
  },
  {
   "cell_type": "code",
   "execution_count": null,
   "metadata": {},
   "outputs": [],
   "source": [
    "# Transform the validation set\n",
    "val_sds_pred_transf = ROC.predict(val_sds_pred).copy(deepcopy=True)"
   ]
  },
  {
   "cell_type": "markdown",
   "metadata": {},
   "source": [
    "## Analyse fairness and accuracy"
   ]
  },
  {
   "cell_type": "code",
   "execution_count": null,
   "metadata": {},
   "outputs": [],
   "source": [
    "print(\"Accuracy =\", accuracy(val_sds_pred_transf.labels.flatten(), val.salary))\n",
    "print(\n",
    "    \"Female accuracy =\",\n",
    "    accuracy(\n",
    "        val_sds_pred_transf.labels.flatten()[val.sex == 0],\n",
    "        val.salary[val.sex == 0],\n",
    "    ),\n",
    ")\n",
    "print(\n",
    "    \"Male accuracy =\",\n",
    "    accuracy(\n",
    "        val_sds_pred_transf.labels.flatten()[val.sex == 1],\n",
    "        val.salary[val.sex == 1],\n",
    "    ),\n",
    ")\n",
    "print(\n",
    "    \"Mean female score =\",\n",
    "    val_sds_pred_transf.labels.flatten()[val.sex == 0].mean(),\n",
    ")\n",
    "print(\n",
    "    \"Mean male score =\",\n",
    "    val_sds_pred_transf.labels.flatten()[val.sex == 1].mean(),\n",
    ")"
   ]
  },
  {
   "cell_type": "markdown",
   "metadata": {},
   "source": [
    "### Plots"
   ]
  },
  {
   "cell_type": "code",
   "execution_count": null,
   "metadata": {},
   "outputs": [],
   "source": [
    "go.Figure(\n",
    "    data=[\n",
    "        go.Bar(\n",
    "            x=[sex],\n",
    "            y=[val_sds_pred_transf.labels.flatten()[val.sex == sex].mean()],\n",
    "            name=\"Male\" if sex else \"Female\",\n",
    "        )\n",
    "        for sex in range(2)\n",
    "    ]\n",
    ")"
   ]
  },
  {
   "cell_type": "code",
   "execution_count": null,
   "metadata": {},
   "outputs": [],
   "source": []
  }
 ],
 "metadata": {
  "kernelspec": {
   "display_name": "Python [conda env:Python3]",
   "language": "python",
   "name": "conda-env-Python3-py"
  },
  "language_info": {
   "codemirror_mode": {
    "name": "ipython",
    "version": 3
   },
   "file_extension": ".py",
   "mimetype": "text/x-python",
   "name": "python",
   "nbconvert_exporter": "python",
   "pygments_lexer": "ipython3",
   "version": "3.6.10"
  }
 },
 "nbformat": 4,
 "nbformat_minor": 2
}
