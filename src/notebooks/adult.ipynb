{
 "cells": [
  {
   "cell_type": "markdown",
   "metadata": {},
   "source": [
    "# Adult analysis\n",
    "\n",
    "This notebook contains preliminary analysis of the Adult dataset."
   ]
  },
  {
   "cell_type": "code",
   "execution_count": null,
   "metadata": {},
   "outputs": [],
   "source": [
    "import joblib\n",
    "import os\n",
    "from pathlib import Path\n",
    "\n",
    "import numpy as np\n",
    "import pandas as pd\n",
    "import plotly.express as px\n",
    "import plotly.graph_objs as go\n",
    "from cdei_helpers.adult_preprocess import preprocess\n",
    "from cdei_helpers.finance import bin_hours_per_week\n",
    "from cdei_helpers.plot import group_box_plots, group_roc_curves\n",
    "from sklearn.neural_network import MLPClassifier"
   ]
  },
  {
   "cell_type": "code",
   "execution_count": null,
   "metadata": {
    "tags": [
     "export"
    ]
   },
   "outputs": [],
   "source": [
    "from cdei_helpers.export_plot import export_plot"
   ]
  },
  {
   "cell_type": "code",
   "execution_count": null,
   "metadata": {},
   "outputs": [],
   "source": [
    "data_dir = Path(\"./data/adult\")\n",
    "preprocess(data_dir)"
   ]
  },
  {
   "cell_type": "markdown",
   "metadata": {},
   "source": [
    "Load data."
   ]
  },
  {
   "cell_type": "code",
   "execution_count": null,
   "metadata": {},
   "outputs": [],
   "source": [
    "train = pd.read_csv(data_dir / \"processed\" / \"train.csv\")\n",
    "val = pd.read_csv(data_dir / \"processed\" / \"val.csv\")\n",
    "test = pd.read_csv(data_dir / \"processed\" / \"test.csv\")\n",
    "\n",
    "train_oh = pd.read_csv(data_dir / \"processed\" / \"train-one-hot.csv\")\n",
    "val_oh = pd.read_csv(data_dir / \"processed\" / \"val-one-hot.csv\")\n",
    "test_oh = pd.read_csv(data_dir / \"processed\" / \"test-one-hot.csv\")"
   ]
  },
  {
   "cell_type": "markdown",
   "metadata": {},
   "source": [
    "## Bias in data\n",
    "\n",
    "Visualise biases present in the data"
   ]
  },
  {
   "cell_type": "code",
   "execution_count": null,
   "metadata": {},
   "outputs": [],
   "source": [
    "salary_by_sex = train[[\"sex\", \"salary\"]].groupby(\"sex\").mean()\n",
    "\n",
    "fig_salary_by_sex = go.Figure(\n",
    "    [go.Bar(x=[\"Female\", \"Male\"], y=salary_by_sex.salary)],\n",
    "    go.Layout(yaxis={\"range\": [0, 1]}),\n",
    ")\n",
    "fig_salary_by_sex.show()"
   ]
  },
  {
   "cell_type": "code",
   "execution_count": null,
   "metadata": {
    "tags": [
     "export"
    ]
   },
   "outputs": [],
   "source": [
    "export_plot(fig_salary_by_sex, \"finance_salary_by_sex.json\")"
   ]
  },
  {
   "cell_type": "code",
   "execution_count": null,
   "metadata": {},
   "outputs": [],
   "source": [
    "salary_by_race = train[[\"race\", \"salary\"]].groupby(\"race\").mean()\n",
    "\n",
    "fig_salary_by_race = go.Figure(\n",
    "    [\n",
    "        go.Bar(\n",
    "            x=[\n",
    "                \"American Indian / Eskimo\",\n",
    "                \"Asian / Pacific Islander\",\n",
    "                \"Black\",\n",
    "                \"Other\",\n",
    "                \"White\",\n",
    "            ],\n",
    "            y=salary_by_race.salary,\n",
    "        )\n",
    "    ],\n",
    "    go.Layout(yaxis={\"range\": [0, 1]}),\n",
    ")\n",
    "fig_salary_by_race.show()"
   ]
  },
  {
   "cell_type": "code",
   "execution_count": null,
   "metadata": {
    "tags": [
     "export"
    ]
   },
   "outputs": [],
   "source": [
    "export_plot(fig_salary_by_race, \"finance_salary_by_race.json\")"
   ]
  },
  {
   "cell_type": "markdown",
   "metadata": {},
   "source": [
    "### Possible resolving variables\n",
    "\n",
    "Let's look at the relationship between hours per week and salary."
   ]
  },
  {
   "cell_type": "code",
   "execution_count": null,
   "metadata": {},
   "outputs": [],
   "source": [
    "salary_by_hours_per_week = (\n",
    "    val.assign(hpw=val.hours_per_week.map(bin_hours_per_week))\n",
    "    .loc[:, [\"hpw\", \"salary\"]]\n",
    "    .groupby(\"hpw\")\n",
    "    .aggregate([\"mean\", \"count\"])\n",
    "    .reset_index()\n",
    ")"
   ]
  },
  {
   "cell_type": "code",
   "execution_count": null,
   "metadata": {},
   "outputs": [],
   "source": [
    "fig_salary_by_hours_per_week = go.Figure(\n",
    "    data=[\n",
    "        go.Bar(\n",
    "            x=salary_by_hours_per_week.hpw,\n",
    "            y=salary_by_hours_per_week[\"salary\"][\"mean\"],\n",
    "        )\n",
    "    ],\n",
    "    layout={\n",
    "        \"title\": \"Proportion of salary > $50k by hours worked per week\",\n",
    "        \"yaxis\": {\"range\": [0, 1], \"title\": \"Proportion salary > $50k\"},\n",
    "        \"xaxis\": {\n",
    "            \"tickvals\": [0, 1, 2, 3],\n",
    "            \"ticktext\": [\"<30hrs\", \"30-40hrs\", \"40-50hrs\", \">50hrs\"],\n",
    "        },\n",
    "    },\n",
    ")\n",
    "fig_salary_by_hours_per_week.show()"
   ]
  },
  {
   "cell_type": "code",
   "execution_count": null,
   "metadata": {
    "tags": [
     "export"
    ]
   },
   "outputs": [],
   "source": [
    "export_plot(\n",
    "    fig_salary_by_hours_per_week, \"finance_salary_by_hours_per_week.json\",\n",
    ")"
   ]
  },
  {
   "cell_type": "markdown",
   "metadata": {},
   "source": [
    "## Training a model to predict salary"
   ]
  },
  {
   "cell_type": "code",
   "execution_count": null,
   "metadata": {},
   "outputs": [],
   "source": [
    "model = MLPClassifier(hidden_layer_sizes=(100, 100), early_stopping=True,)\n",
    "\n",
    "model.fit(train_oh.drop(columns=\"salary\"), train_oh.salary)\n",
    "\n",
    "val_prob = model.predict_proba(val_oh.drop(columns=\"salary\"))[:, 1]\n",
    "val_accuracy = model.score(val_oh.drop(columns=\"salary\"), val_oh.salary)\n",
    "print(f\"Validation accuracy: {val_accuracy * 100:.2f}%\")"
   ]
  },
  {
   "cell_type": "markdown",
   "metadata": {},
   "source": [
    "## Demographic parity\n",
    "\n",
    "Distribution of outcomes for different sexes."
   ]
  },
  {
   "cell_type": "code",
   "execution_count": null,
   "metadata": {},
   "outputs": [],
   "source": [
    "fig_dp_by_sex = group_box_plots(\n",
    "    val_prob,\n",
    "    np.zeros_like(val_prob),\n",
    "    val.sex.map(lambda x: \"Male\" if x else \"Female\"),\n",
    "    group_names=[\"\"],\n",
    ")\n",
    "fig_dp_by_sex.show()"
   ]
  },
  {
   "cell_type": "code",
   "execution_count": null,
   "metadata": {
    "tags": [
     "export"
    ]
   },
   "outputs": [],
   "source": [
    "export_plot(\n",
    "    fig_dp_by_sex, \"finance_dp_by_sex.json\",\n",
    ")"
   ]
  },
  {
   "cell_type": "markdown",
   "metadata": {},
   "source": [
    "Distribution of outcomes for different races."
   ]
  },
  {
   "cell_type": "code",
   "execution_count": null,
   "metadata": {},
   "outputs": [],
   "source": [
    "fig_dp_by_race = group_box_plots(\n",
    "    val_prob, np.zeros_like(val_prob), val.race, group_names=[\"Race\"]\n",
    ")\n",
    "fig_dp_by_race.show()"
   ]
  },
  {
   "cell_type": "code",
   "execution_count": null,
   "metadata": {
    "tags": [
     "export"
    ]
   },
   "outputs": [],
   "source": [
    "export_plot(\n",
    "    fig_dp_by_race, \"finance_dp_by_race.json\",\n",
    ")"
   ]
  },
  {
   "cell_type": "markdown",
   "metadata": {},
   "source": [
    "## Conditional demographic parity\n",
    "\n",
    "Distribution by sex and hours worked per week."
   ]
  },
  {
   "cell_type": "code",
   "execution_count": null,
   "metadata": {},
   "outputs": [],
   "source": [
    "val_hpw_enum = val.hours_per_week.map(bin_hours_per_week)\n",
    "\n",
    "fig_cdp_by_sex = group_box_plots(\n",
    "    val_prob,\n",
    "    val_hpw_enum,\n",
    "    val.sex.map(lambda x: \"Male\" if x else \"Female\"),\n",
    "    group_names=[\"<30\", \"30-40\", \"40-50\", \">50\"],\n",
    ")\n",
    "fig_cdp_by_sex.show()"
   ]
  },
  {
   "cell_type": "code",
   "execution_count": null,
   "metadata": {
    "tags": [
     "export"
    ]
   },
   "outputs": [],
   "source": [
    "export_plot(\n",
    "    fig_cdp_by_sex, \"finance_cdp_by_sex.json\",\n",
    ")"
   ]
  },
  {
   "cell_type": "markdown",
   "metadata": {},
   "source": [
    "Distribution by race and hours worked per week."
   ]
  },
  {
   "cell_type": "code",
   "execution_count": null,
   "metadata": {},
   "outputs": [],
   "source": [
    "fig_cdp_by_race = group_box_plots(\n",
    "    val_prob,\n",
    "    val_hpw_enum,\n",
    "    val.race,\n",
    "    group_names=[\"<30\", \"30-40\", \"40-50\", \">50\"],\n",
    ")\n",
    "fig_cdp_by_race.show()"
   ]
  },
  {
   "cell_type": "code",
   "execution_count": null,
   "metadata": {
    "tags": [
     "export"
    ]
   },
   "outputs": [],
   "source": [
    "export_plot(\n",
    "    fig_cdp_by_race, \"finance_cdp_by_race.json\",\n",
    ")"
   ]
  },
  {
   "cell_type": "markdown",
   "metadata": {},
   "source": [
    "# Equalised odds\n",
    "\n",
    "ROC curves by sex"
   ]
  },
  {
   "cell_type": "code",
   "execution_count": null,
   "metadata": {},
   "outputs": [],
   "source": [
    "fig_eo_by_sex = group_roc_curves(\n",
    "    val.salary, val_prob, val.sex.map(lambda x: \"Male\" if x else \"Female\")\n",
    ")\n",
    "fig_eo_by_sex.show()"
   ]
  },
  {
   "cell_type": "code",
   "execution_count": null,
   "metadata": {
    "tags": [
     "export"
    ]
   },
   "outputs": [],
   "source": [
    "export_plot(fig_eo_by_sex, \"finance_eo_by_sex.json\")"
   ]
  },
  {
   "cell_type": "markdown",
   "metadata": {},
   "source": [
    "ROC curves by race"
   ]
  },
  {
   "cell_type": "code",
   "execution_count": null,
   "metadata": {},
   "outputs": [],
   "source": [
    "fig_eo_by_race = group_roc_curves(val.salary, val_prob, val.race)\n",
    "fig_eo_by_race.show()"
   ]
  },
  {
   "cell_type": "code",
   "execution_count": null,
   "metadata": {
    "tags": [
     "export"
    ]
   },
   "outputs": [],
   "source": [
    "export_plot(fig_eo_by_race, \"finance_eo_by_race.json\")"
   ]
  },
  {
   "cell_type": "markdown",
   "metadata": {},
   "source": [
    "## Save model for later comparison"
   ]
  },
  {
   "cell_type": "code",
   "execution_count": null,
   "metadata": {},
   "outputs": [],
   "source": [
    "try:\n",
    "    os.makedirs(\"../artifacts\")\n",
    "except FileExistsError:\n",
    "    pass\n",
    "except:\n",
    "    raise\n",
    "\n",
    "joblib.dump(model, \"../artifacts/adult_baseline.pkl\")"
   ]
  }
 ],
 "metadata": {
  "celltoolbar": "Tags",
  "kernelspec": {
   "display_name": "cdei",
   "language": "python",
   "name": "cdei"
  },
  "language_info": {
   "codemirror_mode": {
    "name": "ipython",
    "version": 3
   },
   "file_extension": ".py",
   "mimetype": "text/x-python",
   "name": "python",
   "nbconvert_exporter": "python",
   "pygments_lexer": "ipython3",
   "version": "3.8.2"
  },
  "toc": {
   "base_numbering": 1,
   "nav_menu": {},
   "number_sections": true,
   "sideBar": true,
   "skip_h1_title": false,
   "title_cell": "Table of Contents",
   "title_sidebar": "Contents",
   "toc_cell": false,
   "toc_position": {},
   "toc_section_display": true,
   "toc_window_display": false
  }
 },
 "nbformat": 4,
 "nbformat_minor": 2
}
