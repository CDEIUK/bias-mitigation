{
 "cells": [
  {
   "cell_type": "markdown",
   "metadata": {},
   "source": [
    "# Fairness Through Unawareness - Adult data\n",
    "\n",
    "This notebook contains the implementation of the common pre-processing intervention called Fairness Through Unawareness (FTU) in which the protected attribute is not included as a feature in the training data. Besides being considered as an intervention, FTU can also be considered as a fairness notion, which is consistent with disparate treatment.\n",
    "\n",
    "Although FTU is often applied by industry practitioners, its effect in terms of reducing unfairness is limited since information on protected attributed can still be contained elsewhere in the data. More precisely, there may be features which are highly correlated with the protected attributes and therefore act as proxies for them.\n",
    "\n",
    "We consider the effect of applying FTU for a number of observational group fairness notions."
   ]
  },
  {
   "cell_type": "code",
   "execution_count": null,
   "metadata": {},
   "outputs": [],
   "source": [
    "from pathlib import Path\n",
    "\n",
    "import joblib\n",
    "import numpy as np\n",
    "import pandas as pd\n",
    "from fairlearn.metrics import (\n",
    "    demographic_parity_difference,\n",
    "    equalized_odds_difference,\n",
    ")\n",
    "from sklearn.neural_network import MLPClassifier # noqa\n",
    "from helpers.metrics import (\n",
    "    accuracy,\n",
    "    conditional_demographic_parity_ratio,\n",
    "    conditional_demographic_parity_difference,\n",
    ")\n",
    "from helpers.plot import group_bar_plots, group_box_plots, calibration_curves"
   ]
  },
  {
   "cell_type": "code",
   "execution_count": null,
   "metadata": {
    "tags": [
     "export"
    ]
   },
   "outputs": [],
   "source": [
    "from helpers import export_plot"
   ]
  },
  {
   "cell_type": "markdown",
   "metadata": {},
   "source": [
    "## Load data\n",
    "We have committed preprocessed data to the repository for reproducibility and we load it here. Check out hte preprocessing notebook for details on how this data was obtained."
   ]
  },
  {
   "cell_type": "code",
   "execution_count": null,
   "metadata": {},
   "outputs": [],
   "source": [
    "artifacts_dir = Path(\"../../../artifacts\")"
   ]
  },
  {
   "cell_type": "code",
   "execution_count": null,
   "metadata": {
    "tags": [
     "export"
    ]
   },
   "outputs": [],
   "source": [
    "# override data_dir in source notebook\n",
    "# this is stripped out for the hosted notebooks\n",
    "artifacts_dir = Path(\"../../../../artifacts\")"
   ]
  },
  {
   "cell_type": "code",
   "execution_count": null,
   "metadata": {},
   "outputs": [],
   "source": [
    "data_dir = artifacts_dir / \"data\" / \"adult\"\n",
    "\n",
    "train = pd.read_csv(data_dir / \"processed\" / \"train-one-hot.csv\")\n",
    "val = pd.read_csv(data_dir / \"processed\" / \"val-one-hot.csv\")\n",
    "test = pd.read_csv(data_dir / \"processed\" / \"test-one-hot.csv\")"
   ]
  },
  {
   "cell_type": "code",
   "execution_count": null,
   "metadata": {},
   "outputs": [],
   "source": [
    "sex = train.drop(\"salary\", axis=1)[\"sex\"].apply(\n",
    "    lambda sex: \"female\" if sex == 0 else \"male\"\n",
    ")"
   ]
  },
  {
   "cell_type": "markdown",
   "metadata": {},
   "source": [
    "## Load original model\n",
    "\n",
    "For maximum reproducibility we can also load the baseline model from disk, but the code used to train can be found in the baseline model notebook."
   ]
  },
  {
   "cell_type": "code",
   "execution_count": null,
   "metadata": {},
   "outputs": [],
   "source": [
    "baseline_model = joblib.load(\n",
    "    artifacts_dir / \"models\" / \"finance\" / \"baseline.pkl\"\n",
    ")"
   ]
  },
  {
   "cell_type": "markdown",
   "metadata": {},
   "source": [
    "Get predictions on the test data"
   ]
  },
  {
   "cell_type": "code",
   "execution_count": null,
   "metadata": {},
   "outputs": [],
   "source": [
    "bl_test_probs = baseline_model.predict_proba(test.drop(\"salary\", axis=1))[:, 1]\n",
    "bl_test_labels = (bl_test_probs > 0.5).astype(float)"
   ]
  },
  {
   "cell_type": "markdown",
   "metadata": {},
   "source": [
    "## Learn model under FTU"
   ]
  },
  {
   "cell_type": "markdown",
   "metadata": {},
   "source": [
    "Generate FTU data sets"
   ]
  },
  {
   "cell_type": "code",
   "execution_count": null,
   "metadata": {},
   "outputs": [],
   "source": [
    "train_ftu = train.drop(\"sex\", axis=1).copy()\n",
    "val_ftu = val.drop(\"sex\", axis=1).copy()\n",
    "test_ftu = test.drop(\"sex\", axis=1).copy()"
   ]
  },
  {
   "cell_type": "markdown",
   "metadata": {},
   "source": [
    "Learn model on FTU training data"
   ]
  },
  {
   "cell_type": "code",
   "execution_count": null,
   "metadata": {},
   "outputs": [],
   "source": [
    "# ftu_model = MLPClassifier(hidden_layer_sizes=(100, 100), early_stopping=True)\n",
    "# ftu_model.fit(train_ftu.drop(columns=\"salary\"), train.salary)"
   ]
  },
  {
   "cell_type": "code",
   "execution_count": null,
   "metadata": {},
   "outputs": [],
   "source": [
    "ftu_model = joblib.load(artifacts_dir / \"models\" / \"finance\" / \"ftu.pkl\")"
   ]
  },
  {
   "cell_type": "markdown",
   "metadata": {},
   "source": [
    "Generate prediction via learnt FTU model on test data"
   ]
  },
  {
   "cell_type": "code",
   "execution_count": null,
   "metadata": {},
   "outputs": [],
   "source": [
    "test_probs = ftu_model.predict_proba(test_ftu.drop(\"salary\", axis=1))[:, 1]\n",
    "test_pred_labels = (test_probs > 0.5).astype(float)"
   ]
  },
  {
   "cell_type": "markdown",
   "metadata": {},
   "source": [
    "## Demographic parity\n",
    "\n",
    "We first address the effect on demographic parity using FTU."
   ]
  },
  {
   "cell_type": "code",
   "execution_count": null,
   "metadata": {},
   "outputs": [],
   "source": [
    "test_sex = test.sex.values\n",
    "test_salary = test.salary.values\n",
    "mask = test_sex == 1\n",
    "\n",
    "# baseline metrics\n",
    "bl_test_acc = accuracy(test_salary, bl_test_labels)\n",
    "bl_test_dpd = demographic_parity_difference(\n",
    "    test_salary, bl_test_labels, sensitive_features=test_sex,\n",
    ")\n",
    "\n",
    "# new model metrics\n",
    "test_acc = accuracy(test_salary, test_pred_labels)\n",
    "test_dpd = demographic_parity_difference(\n",
    "    test_salary, test_pred_labels, sensitive_features=test_sex,\n",
    ")\n",
    "\n",
    "print(f\"Baseline accuracy: {bl_test_acc:.3f}\")\n",
    "print(f\"Accuracy: {test_acc:.3f}\\n\")\n",
    "\n",
    "print(f\"Baseline demographic parity: {bl_test_dpd:.3f}\")\n",
    "print(f\"Demographic parity: {test_dpd:.3f}\\n\")"
   ]
  },
  {
   "cell_type": "code",
   "execution_count": null,
   "metadata": {},
   "outputs": [],
   "source": [
    "dp_box = group_box_plots(\n",
    "    np.concatenate([bl_test_probs, test_probs]),\n",
    "    np.tile(test.sex.map({0: \"Female\", 1: \"Male\"}), 2),\n",
    "    groups=np.concatenate(\n",
    "        [np.zeros_like(bl_test_probs), np.ones_like(test_probs)]\n",
    "    ),\n",
    "    group_names=[\"Baseline\", \"FTU\"],\n",
    "    title=\"Distribution of scores by sex\",\n",
    "    xlabel=\"Scores\",\n",
    "    ylabel=\"Method\",\n",
    ")\n",
    "dp_box"
   ]
  },
  {
   "cell_type": "code",
   "execution_count": null,
   "metadata": {
    "tags": [
     "export"
    ]
   },
   "outputs": [],
   "source": [
    "export_plot(dp_box, \"ftu-dp.json\")"
   ]
  },
  {
   "cell_type": "markdown",
   "metadata": {},
   "source": [
    "## Conditional demographic parity\n",
    "Let us now evaluate conditional demographic parity for the FTU model on the test data."
   ]
  },
  {
   "cell_type": "code",
   "execution_count": null,
   "metadata": {},
   "outputs": [],
   "source": [
    "from helpers.finance import bin_hours_per_week\n",
    "\n",
    "mask = test_sex.flatten() == 1\n",
    "test_binned_hpw = test.hours_per_week.map(bin_hours_per_week).values\n",
    "\n",
    "bl_test_acc = accuracy(test_salary, bl_test_probs)\n",
    "bl_test_dpd = conditional_demographic_parity_difference(\n",
    "    test.salary, bl_test_labels, test_sex.flatten(), test_binned_hpw,\n",
    ")\n",
    "bl_test_dpr = conditional_demographic_parity_ratio(\n",
    "    test.salary, bl_test_labels, test_sex.flatten(), test_binned_hpw,\n",
    ")\n",
    "\n",
    "test_acc = accuracy(test_salary, test_probs)\n",
    "test_dpd = conditional_demographic_parity_difference(\n",
    "    test.salary, test_pred_labels, test_sex.flatten(), test_binned_hpw,\n",
    ")\n",
    "test_dpr = conditional_demographic_parity_ratio(\n",
    "    test.salary, test_pred_labels, test_sex.flatten(), test_binned_hpw,\n",
    ")\n",
    "\n",
    "print(f\"Baseline accuracy: {bl_test_acc:.3f}\")\n",
    "print(f\"Accuracy: {test_acc:.3f}\\n\")\n",
    "\n",
    "print(f\"Baseline cond. dem. parity difference: {bl_test_dpd:.3f}\")\n",
    "print(f\"Cond. dem. parity difference: {test_dpd:.3f}\\n\")\n",
    "\n",
    "print(f\"Baseline cond. dem. parity ratio: {bl_test_dpr:.3f}\")\n",
    "print(f\"Cond. dem. parity ratio: {test_dpr:.3f}\")"
   ]
  },
  {
   "cell_type": "code",
   "execution_count": null,
   "metadata": {},
   "outputs": [],
   "source": [
    "bl_cdp_box = group_box_plots(\n",
    "    bl_test_probs,\n",
    "    test.sex.map({0: \"Female\", 1: \"Male\"}),\n",
    "    groups=test.hours_per_week.map(bin_hours_per_week),\n",
    "    group_names=[\"0-30\", \"30-40\", \"40-50\", \"50+\"],\n",
    "    title=\"Adversarial scores by sex and hours worked per week\",\n",
    "    xlabel=\"Score\",\n",
    "    ylabel=\"Years of experience\",\n",
    ")\n",
    "bl_cdp_box"
   ]
  },
  {
   "cell_type": "code",
   "execution_count": null,
   "metadata": {},
   "outputs": [],
   "source": [
    "cdp_box = group_box_plots(\n",
    "    test_probs,\n",
    "    test.sex.map({0: \"Female\", 1: \"Male\"}),\n",
    "    groups=test.hours_per_week.map(bin_hours_per_week),\n",
    "    group_names=[\"0-30\", \"30-40\", \"40-50\", \"50+\"],\n",
    "    title=\"Adversarial scores by sex and hours worked per week\",\n",
    "    xlabel=\"Score\",\n",
    "    ylabel=\"Years of experience\",\n",
    ")\n",
    "cdp_box"
   ]
  },
  {
   "cell_type": "code",
   "execution_count": null,
   "metadata": {
    "tags": [
     "export"
    ]
   },
   "outputs": [],
   "source": [
    "export_plot(bl_cdp_box, \"bl-ftu-cdp.json\")\n",
    "export_plot(cdp_box, \"ftu-cdp.json\")"
   ]
  },
  {
   "cell_type": "markdown",
   "metadata": {},
   "source": [
    "## Equalised odds\n",
    "\n",
    "Let us now evaluate equalised odds for the FTU model on the test data."
   ]
  },
  {
   "cell_type": "code",
   "execution_count": null,
   "metadata": {},
   "outputs": [],
   "source": [
    "test_sex = test.sex.values\n",
    "test_salary = test.salary.values\n",
    "mask = test_sex == 1\n",
    "\n",
    "# baseline metrics\n",
    "bl_test_acc = accuracy(test_salary, bl_test_labels)\n",
    "bl_test_eod = equalized_odds_difference(\n",
    "    test_salary, bl_test_labels, sensitive_features=test_sex,\n",
    ")\n",
    "\n",
    "# new model metrics\n",
    "test_acc = accuracy(test_pred_labels, test_salary)\n",
    "test_eod = equalized_odds_difference(\n",
    "    test_salary, test_pred_labels, sensitive_features=test_sex,\n",
    ")\n",
    "\n",
    "print(f\"Baseline accuracy: {bl_test_acc:.3f}\")\n",
    "print(f\"Accuracy: {test_acc:.3f}\\n\")\n",
    "\n",
    "print(f\"Baseline equalised odds difference: {bl_test_eod:.3f}\")\n",
    "print(f\"Equalised odds difference: {test_eod:.3f}\\n\")"
   ]
  },
  {
   "cell_type": "code",
   "execution_count": null,
   "metadata": {},
   "outputs": [],
   "source": [
    "bl_eo_bar = group_bar_plots(\n",
    "    bl_test_probs,\n",
    "    test.sex.map({0: \"Female\", 1: \"Male\"}),\n",
    "    groups=test.salary,\n",
    "    group_names=[\"Low earners\", \"High earners\"],\n",
    "    title=\"Baseline mean scores by sex\",\n",
    "    xlabel=\"Proportion predicted high earners\",\n",
    "    ylabel=\"Outcome\",\n",
    ")\n",
    "bl_eo_bar"
   ]
  },
  {
   "cell_type": "code",
   "execution_count": null,
   "metadata": {},
   "outputs": [],
   "source": [
    "eo_bar = group_bar_plots(\n",
    "    test_probs,\n",
    "    test.sex.map({0: \"Female\", 1: \"Male\"}),\n",
    "    groups=test.salary,\n",
    "    group_names=[\"Low earners\", \"High earners\"],\n",
    "    title=\"FTU mean scores by sex\",\n",
    "    xlabel=\"Proportion predicted high earners\",\n",
    "    ylabel=\"Outcome\",\n",
    ")\n",
    "eo_bar"
   ]
  },
  {
   "cell_type": "code",
   "execution_count": null,
   "metadata": {
    "tags": [
     "export"
    ]
   },
   "outputs": [],
   "source": [
    "export_plot(bl_eo_bar, \"ftu-bl-eo.json\")\n",
    "export_plot(eo_bar, \"ftu-eo.json\")"
   ]
  },
  {
   "cell_type": "markdown",
   "metadata": {},
   "source": [
    "## Equal opportunity\n",
    "\n",
    "Let us now evaluate equal opportunity for the FTU model on the test data."
   ]
  },
  {
   "cell_type": "code",
   "execution_count": null,
   "metadata": {},
   "outputs": [],
   "source": [
    "test_sex = test.sex.values\n",
    "test_salary = test.salary.values\n",
    "mask = test_sex == 1\n",
    "\n",
    "# baseline metrics\n",
    "bl_test_acc = accuracy(test_salary, bl_test_probs)\n",
    "bl_test_eoppd = equalized_odds_difference(\n",
    "    test_salary[test.salary == 1],\n",
    "    bl_test_labels[test.salary == 1],\n",
    "    sensitive_features=test_sex[test.salary == 1],\n",
    ")\n",
    "\n",
    "# new model metrics\n",
    "test_acc = accuracy(test_salary, test_pred_labels)\n",
    "test_eoppd = equalized_odds_difference(\n",
    "    test_salary[test.salary == 1],\n",
    "    test_pred_labels[test.salary == 1],\n",
    "    sensitive_features=test_sex[test.salary == 1],\n",
    ")\n",
    "\n",
    "print(f\"Baseline accuracy: {bl_test_acc:.3f}\")\n",
    "print(f\"Accuracy: {test_acc:.3f}\\n\")\n",
    "\n",
    "print(f\"Baseline equal opportunity: {bl_test_eoppd:.3f}\")\n",
    "print(f\"Equal opportunity: {test_eoppd:.3f}\\n\")"
   ]
  },
  {
   "cell_type": "code",
   "execution_count": null,
   "metadata": {},
   "outputs": [],
   "source": [
    "mask = test.salary == 1\n",
    "\n",
    "eopp_bar = group_bar_plots(\n",
    "    np.concatenate([bl_test_labels[mask], test_pred_labels[mask]]),\n",
    "    np.tile(test.sex[mask].map({0: \"Female\", 1: \"Male\"}), 2),\n",
    "    groups=np.concatenate(\n",
    "        [np.zeros_like(bl_test_probs[mask]), np.ones_like(test_probs[mask])]\n",
    "    ),\n",
    "    group_names=[\"Baseline\", \"FTU\"],\n",
    "    title=\"Mean prediction for high earners by sex\",\n",
    "    xlabel=\"Proportion predicted high earners\",\n",
    "    ylabel=\"Method\",\n",
    ")\n",
    "eopp_bar"
   ]
  },
  {
   "cell_type": "code",
   "execution_count": null,
   "metadata": {
    "tags": [
     "export"
    ]
   },
   "outputs": [],
   "source": [
    "export_plot(eo_bar, \"ftu-eopp.json\")"
   ]
  },
  {
   "cell_type": "markdown",
   "metadata": {},
   "source": [
    "## Calibration\n",
    "\n",
    "Let us now evaluate calibration for the FTU model on the test data."
   ]
  },
  {
   "cell_type": "code",
   "execution_count": null,
   "metadata": {},
   "outputs": [],
   "source": [
    "calibration_curves(\n",
    "    test.salary,\n",
    "    bl_test_probs,\n",
    "    test.sex.map({0: \"Female\", 1: \"Male\"}),\n",
    "    title=\"Baseline calibration by sex\",\n",
    "    xlabel=\"Score\",\n",
    "    ylabel=\"Proportion positive outcome\",\n",
    ")"
   ]
  },
  {
   "cell_type": "code",
   "execution_count": null,
   "metadata": {},
   "outputs": [],
   "source": [
    "calibration_curves(\n",
    "    test.salary,\n",
    "    test_probs,\n",
    "    test.sex.map({0: \"Female\", 1: \"Male\"}),\n",
    "    title=\"FTU calibration by sex\",\n",
    "    xlabel=\"Score\",\n",
    "    ylabel=\"Proportion positive outcome\",\n",
    ")"
   ]
  }
 ],
 "metadata": {
  "celltoolbar": "Tags",
  "kernelspec": {
   "display_name": "Python [conda env:Python3]",
   "language": "python",
   "name": "conda-env-Python3-py"
  },
  "language_info": {
   "codemirror_mode": {
    "name": "ipython",
    "version": 3
   },
   "file_extension": ".py",
   "mimetype": "text/x-python",
   "name": "python",
   "nbconvert_exporter": "python",
   "pygments_lexer": "ipython3",
   "version": "3.6.10"
  }
 },
 "nbformat": 4,
 "nbformat_minor": 4
}
