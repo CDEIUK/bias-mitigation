{
 "cells": [
  {
   "cell_type": "markdown",
   "metadata": {},
   "source": [
    "# Adult data analysis\n",
    "\n",
    "In this notebook we do some basic analysis of the adult data, to understand existing biases before training a model."
   ]
  },
  {
   "cell_type": "code",
   "execution_count": null,
   "metadata": {},
   "outputs": [],
   "source": [
    "from pathlib import Path\n",
    "\n",
    "import pandas as pd\n",
    "import plotly.graph_objs as go\n",
    "from helpers.finance import bin_hours_per_week"
   ]
  },
  {
   "cell_type": "code",
   "execution_count": null,
   "metadata": {
    "tags": [
     "export"
    ]
   },
   "outputs": [],
   "source": [
    "from helpers import export_plot"
   ]
  },
  {
   "cell_type": "markdown",
   "metadata": {},
   "source": [
    "Directory for saving all processed data."
   ]
  },
  {
   "cell_type": "code",
   "execution_count": null,
   "metadata": {},
   "outputs": [],
   "source": [
    "artifacts_dir = Path(\"../../artifacts\")"
   ]
  },
  {
   "cell_type": "code",
   "execution_count": null,
   "metadata": {
    "tags": [
     "export"
    ]
   },
   "outputs": [],
   "source": [
    "# override data_dir in source notebook\n",
    "# this is stripped out for the hosted notebooks\n",
    "artifacts_dir = Path(\"../../../artifacts\")"
   ]
  },
  {
   "cell_type": "markdown",
   "metadata": {},
   "source": [
    "Load the preprocessed data. Check out the preprocessing notebook for details on how this data was obtained."
   ]
  },
  {
   "cell_type": "code",
   "execution_count": null,
   "metadata": {},
   "outputs": [],
   "source": [
    "data_dir = artifacts_dir / \"data\" / \"adult\"\n",
    "\n",
    "train = pd.read_csv(data_dir / \"processed\" / \"train.csv\")\n",
    "val = pd.read_csv(data_dir / \"processed\" / \"val.csv\")\n",
    "test = pd.read_csv(data_dir / \"processed\" / \"test.csv\")\n",
    "\n",
    "train_oh = pd.read_csv(data_dir / \"processed\" / \"train-one-hot.csv\")\n",
    "val_oh = pd.read_csv(data_dir / \"processed\" / \"val-one-hot.csv\")\n",
    "test_oh = pd.read_csv(data_dir / \"processed\" / \"test-one-hot.csv\")"
   ]
  },
  {
   "cell_type": "markdown",
   "metadata": {},
   "source": [
    "## Bias in data\n",
    "\n",
    "Visualise biases present in the data"
   ]
  },
  {
   "cell_type": "code",
   "execution_count": null,
   "metadata": {},
   "outputs": [],
   "source": [
    "salary_by_sex = train[[\"sex\", \"salary\"]].groupby(\"sex\").mean()\n",
    "\n",
    "fig_salary_by_sex = go.Figure(\n",
    "    [go.Bar(x=[\"Female\", \"Male\"], y=salary_by_sex.salary)],\n",
    "    go.Layout(yaxis={\"range\": [0, 1]}),\n",
    ")\n",
    "fig_salary_by_sex"
   ]
  },
  {
   "cell_type": "code",
   "execution_count": null,
   "metadata": {
    "tags": [
     "export"
    ]
   },
   "outputs": [],
   "source": [
    "export_plot(fig_salary_by_sex, \"salary_by_sex.json\")"
   ]
  },
  {
   "cell_type": "code",
   "execution_count": null,
   "metadata": {},
   "outputs": [],
   "source": [
    "salary_by_race = train[[\"race\", \"salary\"]].groupby(\"race\").mean()\n",
    "\n",
    "fig_salary_by_race = go.Figure(\n",
    "    [\n",
    "        go.Bar(\n",
    "            x=[\n",
    "                \"American Indian / Eskimo\",\n",
    "                \"Asian / Pacific Islander\",\n",
    "                \"Black\",\n",
    "                \"Other\",\n",
    "                \"White\",\n",
    "            ],\n",
    "            y=salary_by_race.salary,\n",
    "        )\n",
    "    ],\n",
    "    go.Layout(yaxis={\"range\": [0, 1]}),\n",
    ")\n",
    "fig_salary_by_race"
   ]
  },
  {
   "cell_type": "code",
   "execution_count": null,
   "metadata": {
    "tags": [
     "export"
    ]
   },
   "outputs": [],
   "source": [
    "export_plot(fig_salary_by_race, \"salary_by_race.json\")"
   ]
  },
  {
   "cell_type": "markdown",
   "metadata": {},
   "source": [
    "### Possible resolving variables\n",
    "\n",
    "Let's look at the relationship between hours per week and salary."
   ]
  },
  {
   "cell_type": "code",
   "execution_count": null,
   "metadata": {},
   "outputs": [],
   "source": [
    "salary_by_hours_per_week = (\n",
    "    val.assign(hpw=val.hours_per_week.map(bin_hours_per_week))\n",
    "    .loc[:, [\"hpw\", \"salary\"]]\n",
    "    .groupby(\"hpw\")\n",
    "    .aggregate([\"mean\", \"count\"])\n",
    "    .reset_index()\n",
    ")\n",
    "\n",
    "fig_salary_by_hours_per_week = go.Figure(\n",
    "    data=[\n",
    "        go.Bar(\n",
    "            x=salary_by_hours_per_week.hpw,\n",
    "            y=salary_by_hours_per_week[\"salary\"][\"mean\"],\n",
    "        )\n",
    "    ],\n",
    "    layout={\n",
    "        \"title\": \"Proportion of salary > $50k by hours worked per week\",\n",
    "        \"yaxis\": {\"range\": [0, 1], \"title\": \"Proportion salary > $50k\"},\n",
    "        \"xaxis\": {\n",
    "            \"tickvals\": [0, 1, 2, 3],\n",
    "            \"ticktext\": [\"<30hrs\", \"30-40hrs\", \"40-50hrs\", \">50hrs\"],\n",
    "        },\n",
    "    },\n",
    ")\n",
    "fig_salary_by_hours_per_week"
   ]
  },
  {
   "cell_type": "code",
   "execution_count": null,
   "metadata": {
    "tags": [
     "export"
    ]
   },
   "outputs": [],
   "source": [
    "export_plot(\n",
    "    fig_salary_by_hours_per_week, \"salary_by_hours_per_week.json\",\n",
    ")"
   ]
  }
 ],
 "metadata": {
  "celltoolbar": "Tags",
  "kernelspec": {
   "display_name": "cdei",
   "language": "python",
   "name": "cdei"
  },
  "language_info": {
   "codemirror_mode": {
    "name": "ipython",
    "version": 3
   },
   "file_extension": ".py",
   "mimetype": "text/x-python",
   "name": "python",
   "nbconvert_exporter": "python",
   "pygments_lexer": "ipython3",
   "version": "3.8.2"
  },
  "toc": {
   "base_numbering": 1,
   "nav_menu": {},
   "number_sections": true,
   "sideBar": true,
   "skip_h1_title": false,
   "title_cell": "Table of Contents",
   "title_sidebar": "Contents",
   "toc_cell": false,
   "toc_position": {},
   "toc_section_display": true,
   "toc_window_display": false
  }
 },
 "nbformat": 4,
 "nbformat_minor": 2
}
