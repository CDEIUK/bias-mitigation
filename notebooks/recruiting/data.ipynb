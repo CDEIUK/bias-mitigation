{
 "cells": [
  {
   "cell_type": "markdown",
   "metadata": {},
   "source": [
    "# Synthetic recruiting data"
   ]
  },
  {
   "cell_type": "code",
   "execution_count": null,
   "metadata": {},
   "outputs": [],
   "source": [
    "import itertools\n",
    "from pathlib import Path\n",
    "\n",
    "import matplotlib.pyplot as plt\n",
    "import numpy as np\n",
    "import pandas as pd\n",
    "import plotly.express as px\n",
    "import tensorflow as tf\n",
    "from helpers import fairness_measures\n",
    "from scipy import stats\n",
    "from sklearn.ensemble import ExtraTreesClassifier\n",
    "from sklearn.model_selection import train_test_split\n",
    "from sklearn.preprocessing import StandardScaler"
   ]
  },
  {
   "cell_type": "markdown",
   "metadata": {},
   "source": [
    "## High level: What shall we include?\n",
    "\n",
    "- referred or not\n",
    "- number of career years relevant for the job\n",
    "- whether to went to russell group univserity\n",
    "- honours degree\n",
    "- GCSE scores\n",
    "- A-levels\n",
    "- existing income\n",
    "- sex\n",
    "- race\n",
    "- quality of written cv\n",
    "- years of volunteering experience\n",
    "- years of holes in cv\n",
    "- level of IT skills\n",
    "- whether employed or not"
   ]
  },
  {
   "cell_type": "markdown",
   "metadata": {},
   "source": [
    "### Number of required data points"
   ]
  },
  {
   "cell_type": "code",
   "execution_count": null,
   "metadata": {},
   "outputs": [],
   "source": [
    "n = 25000"
   ]
  },
  {
   "cell_type": "markdown",
   "metadata": {},
   "source": [
    "### Sample sex and race by coin flipping\n",
    "\n",
    "Select each feature independently for each instance independently according to a fair Bernoulli experiment."
   ]
  },
  {
   "cell_type": "code",
   "execution_count": null,
   "metadata": {},
   "outputs": [],
   "source": [
    "df = pd.DataFrame()"
   ]
  },
  {
   "cell_type": "code",
   "execution_count": null,
   "metadata": {},
   "outputs": [],
   "source": [
    "df[\"sex_male\"] = np.random.binomial(1, 0.5, n)\n",
    "df[\"race_white\"] = np.random.binomial(1, 0.5, n)"
   ]
  },
  {
   "cell_type": "markdown",
   "metadata": {},
   "source": [
    "### Sample labels given sex and race\n",
    "\n",
    "We sample labels via Bernoulli distributions, thereby introducing unfairness, i.e., success probability is biased with respect to sex and race."
   ]
  },
  {
   "cell_type": "code",
   "execution_count": null,
   "metadata": {},
   "outputs": [],
   "source": [
    "df = df.assign(employed_yes=\"\")\n",
    "\n",
    "for i in range(2):\n",
    "    for j in range(2):\n",
    "        indices = (df[\"sex_male\"] == i) & (df[\"race_white\"] == j)\n",
    "\n",
    "        if i == 1 and j == 1:\n",
    "            p = 0.7  # White male\n",
    "        elif i == 0 and j == 1:\n",
    "            p = 0.5  # White female\n",
    "        elif i == 1 and j == 0:\n",
    "            p = 0.45  # Black male\n",
    "        elif i == 0 and j == 0:\n",
    "            p = 0.25  # Black female\n",
    "\n",
    "        df.loc[indices, \"employed_yes\"] = np.random.binomial(\n",
    "            1, p, sum(indices.values)\n",
    "        )"
   ]
  },
  {
   "cell_type": "markdown",
   "metadata": {},
   "source": [
    "### Sample number of years of experience \n",
    "Given binary labels sample from a Poisson distribution for years of relevant working experience "
   ]
  },
  {
   "cell_type": "code",
   "execution_count": null,
   "metadata": {},
   "outputs": [],
   "source": [
    "# Check out Poisson distribution\n",
    "x = np.arange(0, 17)\n",
    "rv = stats.poisson(0.5)\n",
    "y = rv.pmf(x)\n",
    "plt.plot(x, y, \"bo\", ms=5)"
   ]
  },
  {
   "cell_type": "code",
   "execution_count": null,
   "metadata": {},
   "outputs": [],
   "source": [
    "df = df.assign(years_experience=\"\")"
   ]
  },
  {
   "cell_type": "code",
   "execution_count": null,
   "metadata": {},
   "outputs": [],
   "source": [
    "for i, j in itertools.product(range(2), range(2)):\n",
    "    indices = (df[\"employed_yes\"] == i) & (df[\"sex_male\"] == j)\n",
    "\n",
    "    if i == 0:\n",
    "        mu = 2.0 + 0.5 * j  # Not employed\n",
    "    elif i == 1:\n",
    "        mu = 4.35 + 0.5 * j  # Employed\n",
    "\n",
    "    df.loc[indices, \"years_experience\"] = np.random.poisson(\n",
    "        mu, sum(indices.values)\n",
    "    )"
   ]
  },
  {
   "cell_type": "markdown",
   "metadata": {},
   "source": [
    "### Experience categories"
   ]
  },
  {
   "cell_type": "code",
   "execution_count": null,
   "metadata": {},
   "outputs": [],
   "source": [
    "# Experience categories\n",
    "df = df.assign(experience_category=\"\")\n",
    "indices = [\n",
    "    (df[\"years_experience\"] >= 2 * i) & (df[\"years_experience\"] < 2 * (i + 1))\n",
    "    for i in range(3)\n",
    "]\n",
    "indices.append((df[\"years_experience\"] >= 6.0))\n",
    "\n",
    "for i in range(3):\n",
    "    df.loc[indices[i], \"experience_category\"] = (\n",
    "        str(2 * i) + \"-\" + str(2 * (i + 1))\n",
    "    )\n",
    "df.loc[indices[-1], \"experience_category\"] = \">=6\""
   ]
  },
  {
   "cell_type": "markdown",
   "metadata": {},
   "source": [
    "### Referred \n",
    "Binary variable stating whether the applicant has been referred ot not"
   ]
  },
  {
   "cell_type": "code",
   "execution_count": null,
   "metadata": {},
   "outputs": [],
   "source": [
    "df = df.assign(referred=\"\")"
   ]
  },
  {
   "cell_type": "code",
   "execution_count": null,
   "metadata": {},
   "outputs": [],
   "source": [
    "for i, j, k in itertools.product(range(2), range(2), range(2)):\n",
    "    indices = (\n",
    "        (df[\"employed_yes\"] == i)\n",
    "        & (df[\"sex_male\"] == j)\n",
    "        & (df[\"race_white\"] == k)\n",
    "    )\n",
    "    if i == 0:\n",
    "        p = 0.1 + 0.3 * j + 0.15 * k  # Not employed\n",
    "    elif i == 1:\n",
    "        p = 0.52 + 0.3 * j + 0.15 * k  # Employed\n",
    "\n",
    "    df.loc[indices, \"referred\"] = np.random.binomial(1, p, sum(indices.values))"
   ]
  },
  {
   "cell_type": "markdown",
   "metadata": {},
   "source": [
    "### A levels\n",
    "\n",
    "This feature will depend on the outcomes of GCSE scores."
   ]
  },
  {
   "cell_type": "code",
   "execution_count": null,
   "metadata": {},
   "outputs": [],
   "source": [
    "df = df.assign(a_levels=\"\")"
   ]
  },
  {
   "cell_type": "code",
   "execution_count": null,
   "metadata": {},
   "outputs": [],
   "source": [
    "for i, j in itertools.product(range(2), range(2)):\n",
    "    indices = (df[\"employed_yes\"] == i) & (df[\"race_white\"] == j)\n",
    "\n",
    "    if i == 0:\n",
    "        p = 0.4 + 0.1 * j\n",
    "    elif i == 1:\n",
    "        p = 0.625 + 0.1 * j\n",
    "\n",
    "    df.loc[indices, \"a_levels\"] = np.random.binomial(4, p, sum(indices.values))"
   ]
  },
  {
   "cell_type": "markdown",
   "metadata": {},
   "source": [
    "### Number of GCSE better than a C\n",
    "\n",
    "Sample integer between 0 and 10 using a binomial distribution, reflecting the number of GCSEs better than a C. "
   ]
  },
  {
   "cell_type": "code",
   "execution_count": null,
   "metadata": {},
   "outputs": [],
   "source": [
    "df = df.assign(gcse=\"\")"
   ]
  },
  {
   "cell_type": "code",
   "execution_count": null,
   "metadata": {},
   "outputs": [],
   "source": [
    "for i in range(5):\n",
    "    indices = df[\"a_levels\"] == i\n",
    "    p = 0.4 + 0.1 * i\n",
    "    df.loc[indices, \"gcse\"] = np.random.binomial(10, p, sum(indices.values))\n",
    "\n",
    "# indices = pd.Series(np.random.choice([True, False], size=n, p=[0.1, 0.9]))\n",
    "# df.loc[indices, 'gcse'] = np.random.binomial(10, 0.5, sum(indices.values))"
   ]
  },
  {
   "cell_type": "markdown",
   "metadata": {},
   "source": [
    "### Russel group\n",
    "\n",
    "Sample binary variable indicating whether went to a Russel group univeristy. The outcome of this variable is correlated with GCSE scores."
   ]
  },
  {
   "cell_type": "code",
   "execution_count": null,
   "metadata": {},
   "outputs": [],
   "source": [
    "df = df.assign(russel_group=\"\")"
   ]
  },
  {
   "cell_type": "code",
   "execution_count": null,
   "metadata": {},
   "outputs": [],
   "source": [
    "df.loc[range(n), \"russel_group\"] = 0\n",
    "\n",
    "for i in range(2):\n",
    "    indices = (df[\"a_levels\"] == 4) & (df[\"employed_yes\"] == i)\n",
    "    if i == 0:\n",
    "        p = 0.4\n",
    "    if i == 1:\n",
    "        p = 0.95\n",
    "    df.loc[indices, \"russel_group\"] = np.random.binomial(\n",
    "        1, p, sum(indices.values)\n",
    "    )"
   ]
  },
  {
   "cell_type": "markdown",
   "metadata": {},
   "source": [
    "### Honours degree"
   ]
  },
  {
   "cell_type": "code",
   "execution_count": null,
   "metadata": {},
   "outputs": [],
   "source": [
    "df = df.assign(honours=\"\")"
   ]
  },
  {
   "cell_type": "code",
   "execution_count": null,
   "metadata": {},
   "outputs": [],
   "source": [
    "for i in range(5):\n",
    "    for j in range(2):\n",
    "        indices = (df[\"a_levels\"] == i) & (df[\"employed_yes\"] == j)\n",
    "        p = (0.05 + 0.05 * i) * (1.0 + j)\n",
    "        df.loc[indices, \"honours\"] = np.random.binomial(\n",
    "            1, p, sum(indices.values)\n",
    "        )"
   ]
  },
  {
   "cell_type": "markdown",
   "metadata": {},
   "source": [
    "### Years of voluntary experience"
   ]
  },
  {
   "cell_type": "code",
   "execution_count": null,
   "metadata": {},
   "outputs": [],
   "source": [
    "df = df.assign(years_volunteer=\"\")"
   ]
  },
  {
   "cell_type": "code",
   "execution_count": null,
   "metadata": {},
   "outputs": [],
   "source": [
    "for i in range(2):\n",
    "    indices = df[\"employed_yes\"] == i\n",
    "\n",
    "    if i == 0:\n",
    "        mu = 0.5  # Not employed\n",
    "    elif i == 1:\n",
    "        mu = 0.75  # Employed\n",
    "\n",
    "    df.loc[indices, \"years_volunteer\"] = np.random.poisson(\n",
    "        mu, sum(indices.values)\n",
    "    )"
   ]
  },
  {
   "cell_type": "code",
   "execution_count": null,
   "metadata": {},
   "outputs": [],
   "source": [
    "np.sqrt(25000)"
   ]
  },
  {
   "cell_type": "markdown",
   "metadata": {},
   "source": [
    "### Existing income"
   ]
  },
  {
   "cell_type": "code",
   "execution_count": null,
   "metadata": {},
   "outputs": [],
   "source": [
    "df = df.assign(income=\"\")"
   ]
  },
  {
   "cell_type": "code",
   "execution_count": null,
   "metadata": {},
   "outputs": [],
   "source": [
    "for i, j, k, l, m in itertools.product(\n",
    "    range(2), range(2), range(2), range(2), range(2)\n",
    "):\n",
    "    indices = (\n",
    "        (df[\"employed_yes\"] == i)\n",
    "        & (df[\"sex_male\"] == j)\n",
    "        & (df[\"race_white\"] == k)\n",
    "        & (df[\"russel_group\"] == l)\n",
    "        & (df[\"honours\"] == m)\n",
    "    )\n",
    "\n",
    "    if i == 0:\n",
    "        mu = 1.0 + 0.1 * j + 0.1 * k + 0.1 * l + 0.1 * m  # Not employed\n",
    "    elif i == 1:\n",
    "        mu = 1.4 + 0.1 * j + 0.1 * k + 0.1 * l + 0.1 * m  # Employed\n",
    "\n",
    "    scale = 2.5 * 1e4\n",
    "    df.loc[indices, \"income\"] = np.random.normal(\n",
    "        mu * scale, 15000, sum(indices.values)\n",
    "    )"
   ]
  },
  {
   "cell_type": "code",
   "execution_count": null,
   "metadata": {},
   "outputs": [],
   "source": [
    "# Set negative feature values to 0\n",
    "indices = df[\"income\"] < 0\n",
    "df.loc[indices, \"income\"] = 0"
   ]
  },
  {
   "cell_type": "markdown",
   "metadata": {},
   "source": [
    "### Level of IT-skills"
   ]
  },
  {
   "cell_type": "code",
   "execution_count": null,
   "metadata": {},
   "outputs": [],
   "source": [
    "df = df.assign(it_skills=\"\")"
   ]
  },
  {
   "cell_type": "code",
   "execution_count": null,
   "metadata": {},
   "outputs": [],
   "source": [
    "for i, j in itertools.product(range(2), range(2)):\n",
    "    indices = (df[\"employed_yes\"] == i) & (df[\"sex_male\"] == j)\n",
    "\n",
    "    if i == 0:\n",
    "        p = 0.25 + 0.325 * j  # Not employed\n",
    "    elif i == 1:\n",
    "        p = 0.53 + 0.325 * j  # Employed\n",
    "\n",
    "    df.loc[indices, \"it_skills\"] = np.random.binomial(\n",
    "        3, p, sum(indices.values)\n",
    "    )"
   ]
  },
  {
   "cell_type": "markdown",
   "metadata": {},
   "source": [
    "### Years of holes in cv"
   ]
  },
  {
   "cell_type": "code",
   "execution_count": null,
   "metadata": {},
   "outputs": [],
   "source": [
    "df = df.assign(years_holes=\"\")"
   ]
  },
  {
   "cell_type": "code",
   "execution_count": null,
   "metadata": {},
   "outputs": [],
   "source": [
    "for i, j, k in itertools.product(range(2), range(2), range(2)):\n",
    "    indices = (\n",
    "        (df[\"employed_yes\"] == i)\n",
    "        & (df[\"sex_male\"] == j)\n",
    "        & (df[\"race_white\"] == k)\n",
    "    )\n",
    "\n",
    "    if i == 0:\n",
    "        mu = 1.0 - 0.5 * j - 0.25 * k  # Not employed\n",
    "    elif i == 1:\n",
    "        mu = 0.75 - 0.5 * j - 0.25 * k  # Employed\n",
    "\n",
    "    df.loc[indices, \"years_holes\"] = np.random.poisson(mu, sum(indices.values))"
   ]
  },
  {
   "cell_type": "markdown",
   "metadata": {},
   "source": [
    "### Quality of written cv"
   ]
  },
  {
   "cell_type": "code",
   "execution_count": null,
   "metadata": {},
   "outputs": [],
   "source": [
    "df = df.assign(quality_cv=\"\")"
   ]
  },
  {
   "cell_type": "code",
   "execution_count": null,
   "metadata": {},
   "outputs": [],
   "source": [
    "for i in range(2):\n",
    "    indices = df[\"employed_yes\"] == i\n",
    "\n",
    "    if i == 0:\n",
    "        p = 0.5  # Not employed\n",
    "    elif i == 1:\n",
    "        p = 0.7  # Employed\n",
    "\n",
    "    df.loc[indices, \"quality_cv\"] = np.random.binomial(\n",
    "        3, p, sum(indices.values)\n",
    "    )"
   ]
  },
  {
   "cell_type": "markdown",
   "metadata": {},
   "source": [
    "### Relabel some of the disadvantaged groups from y=0 to y=1\n",
    "This is to introduce discrepancy in the ROC curves"
   ]
  },
  {
   "cell_type": "code",
   "execution_count": null,
   "metadata": {},
   "outputs": [],
   "source": [
    "indices = (df[\"sex_male\"] == 0) & (df[\"employed_yes\"] == 0)\n",
    "df.loc[indices, \"employed_yes\"] = np.random.binomial(\n",
    "    1, 0.1, sum(indices.values)\n",
    ")"
   ]
  },
  {
   "cell_type": "code",
   "execution_count": null,
   "metadata": {},
   "outputs": [],
   "source": [
    "indices = (df[\"sex_male\"] == 0) & (df[\"employed_yes\"] == 1)\n",
    "df.loc[indices, \"employed_yes\"] = np.random.binomial(\n",
    "    1, 0.98, sum(indices.values)\n",
    ")"
   ]
  },
  {
   "cell_type": "code",
   "execution_count": null,
   "metadata": {},
   "outputs": [],
   "source": [
    "indices = (df[\"race_white\"] == 0) & (df[\"employed_yes\"] == 0)\n",
    "df.loc[indices, \"employed_yes\"] = np.random.binomial(\n",
    "    1, 0.08, sum(indices.values)\n",
    ")"
   ]
  },
  {
   "cell_type": "code",
   "execution_count": null,
   "metadata": {},
   "outputs": [],
   "source": [
    "indices = (df[\"race_white\"] == 0) & (df[\"employed_yes\"] == 1)\n",
    "df.loc[indices, \"employed_yes\"] = np.random.binomial(\n",
    "    1, 0.98, sum(indices.values)\n",
    ")"
   ]
  },
  {
   "cell_type": "markdown",
   "metadata": {},
   "source": [
    "## High-level checks of data set"
   ]
  },
  {
   "cell_type": "code",
   "execution_count": null,
   "metadata": {},
   "outputs": [],
   "source": [
    "label_balance = 1.0 - df[\"employed_yes\"].sum() / len(df[\"employed_yes\"])\n",
    "print(\"Label Balance =\", label_balance)"
   ]
  },
  {
   "cell_type": "markdown",
   "metadata": {},
   "source": [
    "## Train, val and test data"
   ]
  },
  {
   "cell_type": "code",
   "execution_count": null,
   "metadata": {},
   "outputs": [],
   "source": [
    "train_df, test_df = train_test_split(df, test_size=0.2, random_state=42)\n",
    "train_df, val_df = train_test_split(train_df, test_size=0.25, random_state=42)"
   ]
  },
  {
   "cell_type": "code",
   "execution_count": null,
   "metadata": {},
   "outputs": [],
   "source": [
    "test_df = test_df.reset_index(drop=True)\n",
    "train_df = train_df.reset_index(drop=True)"
   ]
  },
  {
   "cell_type": "markdown",
   "metadata": {},
   "source": [
    "## Save to file"
   ]
  },
  {
   "cell_type": "code",
   "execution_count": null,
   "metadata": {},
   "outputs": [],
   "source": [
    "artifacts_dir = Path(\"../../artifacts\")"
   ]
  },
  {
   "cell_type": "code",
   "execution_count": null,
   "metadata": {},
   "outputs": [],
   "source": [
    "# temporary platform specific directory\n",
    "data_dir = artifacts_dir / \"data\" / \"recruiting\""
   ]
  },
  {
   "cell_type": "code",
   "execution_count": null,
   "metadata": {},
   "outputs": [],
   "source": [
    "train_df.to_csv(data_dir / \"raw\" / \"train.csv\", index=False)\n",
    "test_df.to_csv(data_dir / \"raw\" / \"test.csv\", index=False)\n",
    "val_df.to_csv(data_dir / \"raw\" / \"val.csv\", index=False)"
   ]
  },
  {
   "cell_type": "markdown",
   "metadata": {},
   "source": [
    "## Quick data pre-processing"
   ]
  },
  {
   "cell_type": "code",
   "execution_count": null,
   "metadata": {},
   "outputs": [],
   "source": [
    "test_exp_cat = test_df.experience_category"
   ]
  },
  {
   "cell_type": "code",
   "execution_count": null,
   "metadata": {},
   "outputs": [],
   "source": [
    "train_df = train_df.drop(\"experience_category\", axis=1)\n",
    "test_df = test_df.drop(\"experience_category\", axis=1)\n",
    "val_df = val_df.drop(\"experience_category\", axis=1)\n",
    "df = df.drop(\"experience_category\", axis=1)"
   ]
  },
  {
   "cell_type": "markdown",
   "metadata": {},
   "source": [
    "### Scaling data"
   ]
  },
  {
   "cell_type": "code",
   "execution_count": null,
   "metadata": {},
   "outputs": [],
   "source": [
    "ss = StandardScaler()\n",
    "\n",
    "# Numerical attributes\n",
    "cts_features = [\n",
    "    \"a_levels\",\n",
    "    \"gcse\",\n",
    "    \"years_experience\",\n",
    "    \"years_volunteer\",\n",
    "    \"income\",\n",
    "    \"it_skills\",\n",
    "    \"years_holes\",\n",
    "    \"quality_cv\",\n",
    "]\n",
    "\n",
    "train_df[cts_features] = ss.fit_transform(train_df[cts_features])\n",
    "val_df[cts_features] = ss.transform(val_df[cts_features])\n",
    "test_df[cts_features] = ss.transform(test_df[cts_features])"
   ]
  },
  {
   "cell_type": "code",
   "execution_count": null,
   "metadata": {},
   "outputs": [],
   "source": [
    "train_df = train_df.astype(float)\n",
    "test_df = test_df.astype(float)\n",
    "val_df = val_df.astype(float)"
   ]
  },
  {
   "cell_type": "markdown",
   "metadata": {},
   "source": [
    "## Model"
   ]
  },
  {
   "cell_type": "code",
   "execution_count": null,
   "metadata": {},
   "outputs": [],
   "source": [
    "# Define model\n",
    "model = tf.keras.Sequential(\n",
    "    [\n",
    "        tf.keras.Input(13, name=\"x\"),\n",
    "        tf.keras.layers.Dense(64, activation=\"relu\"),\n",
    "        tf.keras.layers.Dense(32, activation=\"relu\"),\n",
    "        tf.keras.layers.Dense(1, activation=\"sigmoid\"),\n",
    "    ]\n",
    ")\n",
    "model.compile(\n",
    "    tf.optimizers.Adam(learning_rate=1e-4),\n",
    "    \"binary_crossentropy\",\n",
    "    [\"binary_accuracy\"],\n",
    ")\n",
    "\n",
    "history = model.fit(\n",
    "    train_df.drop(\"employed_yes\", axis=1).values,\n",
    "    train_df[\"employed_yes\"].values,\n",
    "    epochs=500,\n",
    "    batch_size=512,\n",
    "    validation_data=(\n",
    "        val_df.drop(\"employed_yes\", axis=1).values,\n",
    "        val_df[\"employed_yes\"].values,\n",
    "    ),\n",
    "    callbacks=[tf.keras.callbacks.EarlyStopping(patience=4, min_delta=1e-4)],\n",
    ")"
   ]
  },
  {
   "cell_type": "code",
   "execution_count": null,
   "metadata": {},
   "outputs": [],
   "source": [
    "y_pred = model.predict(test_df.drop([\"employed_yes\"], axis=1)).flatten()\n",
    "print(\n",
    "    \"Test Accuracy = \",\n",
    "    fairness_measures.accuracy(y_pred, test_df[\"employed_yes\"].values),\n",
    ")"
   ]
  },
  {
   "cell_type": "markdown",
   "metadata": {},
   "source": [
    "### Demographic parity"
   ]
  },
  {
   "cell_type": "code",
   "execution_count": null,
   "metadata": {},
   "outputs": [],
   "source": [
    "ind_p = fairness_measures.disparate_impact_p(y_pred, test_df[\"race_white\"])\n",
    "print(\"Independence in probability =\", ind_p)"
   ]
  },
  {
   "cell_type": "code",
   "execution_count": null,
   "metadata": {},
   "outputs": [],
   "source": [
    "ind_p = fairness_measures.disparate_impact_p(y_pred, test_df[\"sex_male\"])\n",
    "print(\"Independence in probability =\", ind_p)"
   ]
  },
  {
   "cell_type": "markdown",
   "metadata": {},
   "source": [
    "### Equal opportunity"
   ]
  },
  {
   "cell_type": "code",
   "execution_count": null,
   "metadata": {},
   "outputs": [],
   "source": [
    "eop_p = fairness_measures.equal_opportunity_p(\n",
    "    y_pred, test_df[\"race_white\"], test_df[\"employed_yes\"]\n",
    ")\n",
    "print(\"White/black equal opportunity in probability =\", eop_p)"
   ]
  },
  {
   "cell_type": "code",
   "execution_count": null,
   "metadata": {},
   "outputs": [],
   "source": [
    "eop_p = fairness_measures.equal_opportunity_p(\n",
    "    y_pred, test_df[\"sex_male\"], test_df[\"employed_yes\"]\n",
    ")\n",
    "print(\"Male/female equal opportunity in probability =\", eop_p)"
   ]
  },
  {
   "cell_type": "markdown",
   "metadata": {},
   "source": [
    "### Equalised odds"
   ]
  },
  {
   "cell_type": "code",
   "execution_count": null,
   "metadata": {},
   "outputs": [],
   "source": [
    "plt.hist(\n",
    "    y_pred[(test_df[\"employed_yes\"] == 1) & (test_df[\"sex_male\"] == 0)],\n",
    "    alpha=0.5,\n",
    "    bins=20,\n",
    ")\n",
    "plt.hist(\n",
    "    y_pred[(test_df[\"employed_yes\"] == 1) & (test_df[\"sex_male\"] == 1)],\n",
    "    alpha=0.5,\n",
    "    bins=20,\n",
    ")"
   ]
  },
  {
   "cell_type": "code",
   "execution_count": null,
   "metadata": {},
   "outputs": [],
   "source": [
    "plt.hist(\n",
    "    y_pred[(test_df[\"employed_yes\"] == 0) & (test_df[\"sex_male\"] == 0)],\n",
    "    alpha=0.5,\n",
    "    bins=20,\n",
    ")\n",
    "plt.hist(\n",
    "    y_pred[(test_df[\"employed_yes\"] == 0) & (test_df[\"sex_male\"] == 1)],\n",
    "    alpha=0.5,\n",
    "    bins=20,\n",
    ")"
   ]
  },
  {
   "cell_type": "code",
   "execution_count": null,
   "metadata": {},
   "outputs": [],
   "source": [
    "sep_p = fairness_measures.equalised_odds_p(\n",
    "    y_pred, test_df[\"race_white\"], test_df[\"employed_yes\"]\n",
    ")\n",
    "print(\"White/black separation in probability =\", sep_p)"
   ]
  },
  {
   "cell_type": "code",
   "execution_count": null,
   "metadata": {},
   "outputs": [],
   "source": [
    "sep_p = fairness_measures.equalised_odds_p(\n",
    "    y_pred, test_df[\"sex_male\"], test_df[\"employed_yes\"]\n",
    ")\n",
    "print(\"Male/female separation in probability =\", sep_p)"
   ]
  },
  {
   "cell_type": "markdown",
   "metadata": {},
   "source": [
    "### Feature importance via sklearn"
   ]
  },
  {
   "cell_type": "code",
   "execution_count": null,
   "metadata": {},
   "outputs": [],
   "source": [
    "# Build a forest and compute the impurity-based feature importances\n",
    "# forest = ExtraTreesClassifier(n_estimators=250, random_state=42)\n",
    "forest = ExtraTreesClassifier(n_estimators=1000, max_depth=15)\n",
    "\n",
    "forest.fit(train_df.drop([\"employed_yes\"], axis=1), train_df.employed_yes)\n",
    "\n",
    "# Accuracy for forest\n",
    "y_pred = forest.predict_proba(test_df.drop([\"employed_yes\"], axis=1))[:, 1]\n",
    "print(\n",
    "    \"Test Accuracy = \",\n",
    "    fairness_measures.accuracy(y_pred, test_df[\"employed_yes\"].values),\n",
    ")\n",
    "\n",
    "importances = forest.feature_importances_\n",
    "std = np.std(\n",
    "    [tree.feature_importances_ for tree in forest.estimators_], axis=0\n",
    ")\n",
    "indices = np.argsort(importances)[::-1]\n",
    "\n",
    "# Print the feature ranking\n",
    "print(\"Feature ranking:\")\n",
    "\n",
    "for f in range(train_df.shape[1] - 1):\n",
    "    print(\n",
    "        \"%d. feature %s (%f)\"\n",
    "        % (\n",
    "            f + 1,\n",
    "            train_df.columns.drop([\"employed_yes\"])[indices[f]],\n",
    "            importances[indices[f]],\n",
    "        )\n",
    "    )\n",
    "\n",
    "# Plot the impurity-based feature importances of the forest\n",
    "fig, ax = plt.subplots(figsize=(10, 5))\n",
    "plt.title(\"Feature importances\")\n",
    "ax.bar(\n",
    "    range(train_df.shape[1] - 1),\n",
    "    importances[indices],\n",
    "    color=\"r\",\n",
    "    yerr=std[indices],\n",
    "    align=\"center\",\n",
    ")\n",
    "ax.set_xticks(range(train_df.shape[1] - 1))\n",
    "ax.set_xticklabels(\n",
    "    [train_df.columns.drop([\"employed_yes\"])[i] for i in indices], rotation=45\n",
    ")"
   ]
  },
  {
   "cell_type": "markdown",
   "metadata": {},
   "source": [
    "### Resolving variable fairness\n",
    "Consider fairness with year of relevant career experience being the resolving variable"
   ]
  },
  {
   "cell_type": "code",
   "execution_count": null,
   "metadata": {},
   "outputs": [],
   "source": [
    "cond_test_df = pd.DataFrame(\n",
    "    {\n",
    "        \"experience_category\": test_exp_cat,\n",
    "        \"scores\": y_pred,\n",
    "        \"sex_male\": test_df.sex_male,\n",
    "        \"race_white\": test_df.race_white,\n",
    "    }\n",
    ")"
   ]
  },
  {
   "cell_type": "code",
   "execution_count": null,
   "metadata": {},
   "outputs": [],
   "source": [
    "fig = px.box(\n",
    "    cond_test_df,\n",
    "    x=\"experience_category\",\n",
    "    y=\"scores\",\n",
    "    color=\"sex_male\",\n",
    "    category_orders={\"experience_category\": [\"0-2\", \"2-4\", \"4-6\", \">=6\"]},\n",
    ")\n",
    "fig"
   ]
  },
  {
   "cell_type": "code",
   "execution_count": null,
   "metadata": {},
   "outputs": [],
   "source": [
    "fig = px.box(\n",
    "    cond_test_df,\n",
    "    x=\"experience_category\",\n",
    "    y=\"scores\",\n",
    "    color=\"race_white\",\n",
    "    category_orders={\"experience_category\": [\"0-2\", \"2-4\", \"4-6\", \">=6\"]},\n",
    ")\n",
    "fig"
   ]
  },
  {
   "cell_type": "markdown",
   "metadata": {},
   "source": [
    "## Save data to file"
   ]
  },
  {
   "cell_type": "code",
   "execution_count": null,
   "metadata": {},
   "outputs": [],
   "source": [
    "train_df.to_csv(data_dir / \"processed\" / \"train.csv\", index=False)\n",
    "test_df.to_csv(data_dir / \"processed\" / \"test.csv\", index=False)\n",
    "val_df.to_csv(data_dir / \"processed\" / \"val.csv\", index=False)"
   ]
  }
 ],
 "metadata": {
  "kernelspec": {
   "display_name": "cdei",
   "language": "python",
   "name": "cdei"
  },
  "language_info": {
   "codemirror_mode": {
    "name": "ipython",
    "version": 3
   },
   "file_extension": ".py",
   "mimetype": "text/x-python",
   "name": "python",
   "nbconvert_exporter": "python",
   "pygments_lexer": "ipython3",
   "version": "3.8.2"
  },
  "toc": {
   "base_numbering": 1,
   "nav_menu": {},
   "number_sections": true,
   "sideBar": true,
   "skip_h1_title": false,
   "title_cell": "Table of Contents",
   "title_sidebar": "Contents",
   "toc_cell": false,
   "toc_position": {},
   "toc_section_display": true,
   "toc_window_display": false
  }
 },
 "nbformat": 4,
 "nbformat_minor": 4
}
