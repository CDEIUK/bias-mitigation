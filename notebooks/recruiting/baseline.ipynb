{
 "cells": [
  {
   "cell_type": "markdown",
   "metadata": {},
   "source": [
    "# Baseline model for recruiting data\n",
    "\n",
    "In this notebook we train a simple model on the recruiting data that can serve as a counterfactual for what would have happened if we hadn't made any kind of fairness intervention."
   ]
  },
  {
   "cell_type": "code",
   "execution_count": null,
   "metadata": {},
   "outputs": [],
   "source": [
    "import joblib\n",
    "from pathlib import Path\n",
    "\n",
    "import numpy as np\n",
    "import pandas as pd\n",
    "from helpers.recruiting import bin_years_experience\n",
    "from helpers.plot import group_box_plots\n",
    "from sklearn.neural_network import MLPClassifier  # noqa"
   ]
  },
  {
   "cell_type": "markdown",
   "metadata": {},
   "source": [
    "Directory containing preprocessed data."
   ]
  },
  {
   "cell_type": "code",
   "execution_count": null,
   "metadata": {},
   "outputs": [],
   "source": [
    "artifacts_dir = Path(\"../../artifacts\")"
   ]
  },
  {
   "cell_type": "markdown",
   "metadata": {},
   "source": [
    "Load the preprocessed data. Check out the preprocessing notebook for details on how this data was obtained."
   ]
  },
  {
   "cell_type": "code",
   "execution_count": null,
   "metadata": {},
   "outputs": [],
   "source": [
    "data_dir = artifacts_dir / \"data\" / \"recruiting\"\n",
    "\n",
    "train = pd.read_csv(data_dir / \"processed\" / \"train.csv\")\n",
    "val = pd.read_csv(data_dir / \"processed\" / \"val.csv\")\n",
    "test = pd.read_csv(data_dir / \"processed\" / \"test.csv\")\n",
    "\n",
    "# used for unscaled years of experience\n",
    "test_raw = pd.read_csv(data_dir / \"raw\" / \"test.csv\")"
   ]
  },
  {
   "cell_type": "markdown",
   "metadata": {},
   "source": [
    "## Training a model to predict salary\n",
    "\n",
    "We will load a model from disk so that results are reproducible, but commented out here is the code we used to train the model."
   ]
  },
  {
   "cell_type": "code",
   "execution_count": null,
   "metadata": {},
   "outputs": [],
   "source": [
    "# model = MLPClassifier(hidden_layer_sizes=(100, 100), early_stopping=True)\n",
    "\n",
    "# model.fit(train.drop(columns=\"employed_yes\"), train.employed_yes)"
   ]
  },
  {
   "cell_type": "markdown",
   "metadata": {},
   "source": [
    "Load the pretrained model"
   ]
  },
  {
   "cell_type": "code",
   "execution_count": null,
   "metadata": {},
   "outputs": [],
   "source": [
    "model = joblib.load(artifacts_dir / \"models\" / \"recruiting\" / \"baseline.pkl\")"
   ]
  },
  {
   "cell_type": "markdown",
   "metadata": {},
   "source": [
    "Model accuracy on validation set"
   ]
  },
  {
   "cell_type": "code",
   "execution_count": null,
   "metadata": {},
   "outputs": [],
   "source": [
    "test_prob = model.predict_proba(test.drop(columns=\"employed_yes\"))[:, 1]\n",
    "test_accuracy = model.score(\n",
    "    test.drop(columns=\"employed_yes\"), test.employed_yes\n",
    ")\n",
    "print(f\"Test accuracy: {test_accuracy * 100:.2f}%\")"
   ]
  },
  {
   "cell_type": "markdown",
   "metadata": {},
   "source": [
    "## Demographic parity\n",
    "\n",
    "Distribution of outcomes for different sexes."
   ]
  },
  {
   "cell_type": "code",
   "execution_count": null,
   "metadata": {},
   "outputs": [],
   "source": [
    "fig_dp_by_sex = group_box_plots(\n",
    "    test_prob,\n",
    "    np.zeros_like(test_prob),\n",
    "    test.sex_male.map(lambda x: \"Male\" if x else \"Female\"),\n",
    "    group_names=[\"\"],\n",
    ")\n",
    "fig_dp_by_sex"
   ]
  },
  {
   "cell_type": "markdown",
   "metadata": {},
   "source": [
    "Distribution of outcomes for different races."
   ]
  },
  {
   "cell_type": "code",
   "execution_count": null,
   "metadata": {},
   "outputs": [],
   "source": [
    "fig_dp_by_race = group_box_plots(\n",
    "    test_prob,\n",
    "    np.zeros_like(test_prob),\n",
    "    test.race_white.map(lambda x: \"White\" if x else \"Black\"),\n",
    "    group_names=[\"\"],\n",
    ")\n",
    "fig_dp_by_race"
   ]
  },
  {
   "cell_type": "markdown",
   "metadata": {},
   "source": [
    "## Conditional demographic parity\n",
    "\n",
    "Distribution by sex and hours worked per week."
   ]
  },
  {
   "cell_type": "code",
   "execution_count": null,
   "metadata": {},
   "outputs": [],
   "source": [
    "test_exp_enum = test_raw.years_experience.map(bin_years_experience)\n",
    "\n",
    "fig_cdp_by_sex = group_box_plots(\n",
    "    test_prob,\n",
    "    test_exp_enum,\n",
    "    test.sex_male.map(lambda x: \"Male\" if x else \"Female\"),\n",
    "    group_names=[\"0-2 years\", \"3-5 years\", \"6-9 years\", \"10+ years\"],\n",
    ")\n",
    "fig_cdp_by_sex"
   ]
  },
  {
   "cell_type": "markdown",
   "metadata": {},
   "source": [
    "Distribution by race and hours worked per week."
   ]
  },
  {
   "cell_type": "code",
   "execution_count": null,
   "metadata": {},
   "outputs": [],
   "source": [
    "fig_cdp_by_race = group_box_plots(\n",
    "    test_prob,\n",
    "    test_exp_enum,\n",
    "    test.race_white.map(lambda x: \"White\" if x else \"Black\"),\n",
    "    group_names=[\"0-2 years\", \"3-5 years\", \"6-9 years\", \"10+ years\"],\n",
    ")\n",
    "fig_cdp_by_race"
   ]
  },
  {
   "cell_type": "markdown",
   "metadata": {},
   "source": [
    "## Equalised odds\n",
    "\n",
    "To assess equalised odds we compare scores across the outcome classes."
   ]
  },
  {
   "cell_type": "code",
   "execution_count": null,
   "metadata": {},
   "outputs": [],
   "source": [
    "fig_eo_by_sex = group_box_plots(\n",
    "    test_prob,\n",
    "    test.employed_yes,\n",
    "    test.sex_male.map(lambda x: \"Male\" if x else \"Female\"),\n",
    "    group_names=[\"Not employed\", \"Employed\"],\n",
    ")\n",
    "fig_eo_by_sex"
   ]
  },
  {
   "cell_type": "markdown",
   "metadata": {},
   "source": [
    "We do the same, comparing races."
   ]
  },
  {
   "cell_type": "code",
   "execution_count": null,
   "metadata": {},
   "outputs": [],
   "source": [
    "fig_eo_by_race = group_box_plots(\n",
    "    test_prob,\n",
    "    test.employed_yes,\n",
    "    test.race_white.map(lambda x: \"White\" if x else \"Black\"),\n",
    "    group_names=[\"Not employed\", \"Employed\"],\n",
    ")\n",
    "fig_eo_by_race"
   ]
  }
 ],
 "metadata": {
  "kernelspec": {
   "display_name": "cdei",
   "language": "python",
   "name": "cdei"
  },
  "language_info": {
   "codemirror_mode": {
    "name": "ipython",
    "version": 3
   },
   "file_extension": ".py",
   "mimetype": "text/x-python",
   "name": "python",
   "nbconvert_exporter": "python",
   "pygments_lexer": "ipython3",
   "version": "3.8.2"
  },
  "toc": {
   "base_numbering": 1,
   "nav_menu": {},
   "number_sections": true,
   "sideBar": true,
   "skip_h1_title": false,
   "title_cell": "Table of Contents",
   "title_sidebar": "Contents",
   "toc_cell": false,
   "toc_position": {},
   "toc_section_display": true,
   "toc_window_display": false
  }
 },
 "nbformat": 4,
 "nbformat_minor": 2
}
