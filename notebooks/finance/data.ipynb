{
 "cells": [
  {
   "cell_type": "markdown",
   "metadata": {},
   "source": [
    "# Adult data analysis\n",
    "\n",
    "In this notebook we do some basic analysis of the adult data, to understand existing biases before training a model."
   ]
  },
  {
   "cell_type": "code",
   "execution_count": null,
   "metadata": {},
   "outputs": [],
   "source": [
    "from pathlib import Path\n",
    "\n",
    "import pandas as pd\n",
    "from helpers.finance import bin_hours_per_week\n",
    "from helpers.plot import bar_chart"
   ]
  },
  {
   "cell_type": "markdown",
   "metadata": {},
   "source": [
    "Directory for saving all processed data."
   ]
  },
  {
   "cell_type": "code",
   "execution_count": null,
   "metadata": {},
   "outputs": [],
   "source": [
    "artifacts_dir = Path(\"../../artifacts\")"
   ]
  },
  {
   "cell_type": "markdown",
   "metadata": {},
   "source": [
    "Load the preprocessed data. Check out the preprocessing notebook for details on how this data was obtained."
   ]
  },
  {
   "cell_type": "code",
   "execution_count": null,
   "metadata": {},
   "outputs": [],
   "source": [
    "data_dir = artifacts_dir / \"data\" / \"adult\"\n",
    "\n",
    "train = pd.read_csv(data_dir / \"processed\" / \"train.csv\")\n",
    "val = pd.read_csv(data_dir / \"processed\" / \"val.csv\")\n",
    "test = pd.read_csv(data_dir / \"processed\" / \"test.csv\")\n",
    "\n",
    "train_oh = pd.read_csv(data_dir / \"processed\" / \"train-one-hot.csv\")\n",
    "val_oh = pd.read_csv(data_dir / \"processed\" / \"val-one-hot.csv\")\n",
    "test_oh = pd.read_csv(data_dir / \"processed\" / \"test-one-hot.csv\")"
   ]
  },
  {
   "cell_type": "markdown",
   "metadata": {},
   "source": [
    "## Bias in data\n",
    "\n",
    "Visualise biases present in the data"
   ]
  },
  {
   "cell_type": "code",
   "execution_count": null,
   "metadata": {},
   "outputs": [],
   "source": [
    "salary_by_sex = train[[\"sex\", \"salary\"]].groupby(\"sex\").mean()\n",
    "\n",
    "fig_salary_by_sex = bar_chart(\n",
    "    x=[\"Female\", \"Male\"],\n",
    "    y=salary_by_sex.salary,\n",
    "    title=\"Proportion of high earners by sex\",\n",
    "    xlabel=\"Sex\",\n",
    "    ylabel=\"Proportion of high earners\",\n",
    ")\n",
    "fig_salary_by_sex"
   ]
  },
  {
   "cell_type": "code",
   "execution_count": null,
   "metadata": {},
   "outputs": [],
   "source": [
    "salary_by_race = train[[\"race\", \"salary\"]].groupby(\"race\").mean()\n",
    "\n",
    "fig_salary_by_race = bar_chart(\n",
    "    x=[\n",
    "        \"American Indian / Eskimo\",\n",
    "        \"Asian / Pacific Islander\",\n",
    "        \"Black\",\n",
    "        \"Other\",\n",
    "        \"White\",\n",
    "    ],\n",
    "    y=salary_by_race.salary,\n",
    "    title=\"Proportion of high earners by race\",\n",
    "    xlabel=\"Race\",\n",
    "    ylabel=\"Proportion of high earners\",\n",
    ")\n",
    "fig_salary_by_race"
   ]
  },
  {
   "cell_type": "markdown",
   "metadata": {},
   "source": [
    "### Possible resolving variables\n",
    "\n",
    "Let's look at the relationship between hours per week and salary."
   ]
  },
  {
   "cell_type": "code",
   "execution_count": null,
   "metadata": {},
   "outputs": [],
   "source": [
    "salary_by_hours_per_week = (\n",
    "    val.assign(hpw=val.hours_per_week.map(bin_hours_per_week))\n",
    "    .loc[:, [\"hpw\", \"salary\"]]\n",
    "    .groupby(\"hpw\")\n",
    "    .aggregate([\"mean\", \"count\"])\n",
    "    .reset_index()\n",
    ")\n",
    "\n",
    "fig_salary_by_hours_per_week = bar_chart(\n",
    "    x=salary_by_hours_per_week.hpw,\n",
    "    y=salary_by_hours_per_week[\"salary\"][\"mean\"],\n",
    "    title=\"Proportion of high earners by hours worked per week\",\n",
    "    xlabel=\"Hours worked per week\",\n",
    "    ylabel=\"Proportion of high earners\",\n",
    "    xticks={\n",
    "        \"tickvals\": [0, 1, 2, 3],\n",
    "        \"ticktext\": [\"0-30\", \"30-40\", \"40-50\", \"50+\"],\n",
    "    },\n",
    ")\n",
    "fig_salary_by_hours_per_week"
   ]
  }
 ],
 "metadata": {
  "kernelspec": {
   "display_name": "Python [conda env:Python3]",
   "language": "python",
   "name": "conda-env-Python3-py"
  },
  "language_info": {
   "codemirror_mode": {
    "name": "ipython",
    "version": 3
   },
   "file_extension": ".py",
   "mimetype": "text/x-python",
   "name": "python",
   "nbconvert_exporter": "python",
   "pygments_lexer": "ipython3",
   "version": "3.6.10"
  },
  "toc": {
   "base_numbering": 1,
   "nav_menu": {},
   "number_sections": true,
   "sideBar": true,
   "skip_h1_title": false,
   "title_cell": "Table of Contents",
   "title_sidebar": "Contents",
   "toc_cell": false,
   "toc_position": {},
   "toc_section_display": true,
   "toc_window_display": false
  }
 },
 "nbformat": 4,
 "nbformat_minor": 2
}
