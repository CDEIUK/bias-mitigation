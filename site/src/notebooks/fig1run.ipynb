{
 "cells": [
  {
   "cell_type": "markdown",
   "metadata": {
    "papermill": {
     "duration": null,
     "end_time": null,
     "exception": null,
     "start_time": null,
     "status": "completed"
    },
    "tags": []
   },
   "source": [
    "# Test notebook\n",
    "\n",
    "Example analysis with dropdow from https://plotly.com/python/dropdowns/#update-one-layout-attribute"
   ]
  },
  {
   "cell_type": "code",
   "execution_count": null,
   "metadata": {
    "papermill": {
     "duration": null,
     "end_time": null,
     "exception": null,
     "start_time": null,
     "status": "completed"
    },
    "tags": []
   },
   "outputs": [],
   "source": [
    "import plotly.graph_objects as go\n",
    "\n",
    "# Generate dataset\n",
    "import numpy as np\n",
    "np.random.seed(1)\n",
    "\n",
    "x0 = np.random.normal(2, 0.4, 400)\n",
    "y0 = np.random.normal(2, 0.4, 400)\n",
    "x1 = np.random.normal(3, 0.6, 600)\n",
    "y1 = np.random.normal(6, 0.4, 400)\n",
    "x2 = np.random.normal(4, 0.2, 200)\n",
    "y2 = np.random.normal(4, 0.4, 200)\n",
    "\n",
    "# Create figure\n",
    "fig = go.Figure()\n",
    "\n",
    "# Add traces\n",
    "fig.add_trace(\n",
    "    go.Scatter(\n",
    "        x=x0,\n",
    "        y=y0,\n",
    "        mode=\"markers\",\n",
    "        marker=dict(color=\"DarkOrange\")\n",
    "    )\n",
    ")\n",
    "\n",
    "fig.add_trace(\n",
    "    go.Scatter(\n",
    "        x=x1,\n",
    "        y=y1,\n",
    "        mode=\"markers\",\n",
    "        marker=dict(color=\"Crimson\")\n",
    "    )\n",
    ")\n",
    "\n",
    "fig.add_trace(\n",
    "    go.Scatter(\n",
    "        x=x2,\n",
    "        y=y2,\n",
    "        mode=\"markers\",\n",
    "        marker=dict(color=\"RebeccaPurple\")\n",
    "    )\n",
    ")\n",
    "\n",
    "# Add buttons that add shapes\n",
    "cluster0 = [dict(type=\"circle\",\n",
    "                            xref=\"x\", yref=\"y\",\n",
    "                            x0=min(x0), y0=min(y0),\n",
    "                            x1=max(x0), y1=max(y0),\n",
    "                            line=dict(color=\"DarkOrange\"))]\n",
    "cluster1 = [dict(type=\"circle\",\n",
    "                            xref=\"x\", yref=\"y\",\n",
    "                            x0=min(x1), y0=min(y1),\n",
    "                            x1=max(x1), y1=max(y1),\n",
    "                            line=dict(color=\"Crimson\"))]\n",
    "cluster2 = [dict(type=\"circle\",\n",
    "                            xref=\"x\", yref=\"y\",\n",
    "                            x0=min(x2), y0=min(y2),\n",
    "                            x1=max(x2), y1=max(y2),\n",
    "                            line=dict(color=\"RebeccaPurple\"))]\n",
    "\n",
    "fig.update_layout(\n",
    "    updatemenus=[\n",
    "        dict(buttons=list([\n",
    "            dict(label=\"None\",\n",
    "                 method=\"relayout\",\n",
    "                 args=[\"shapes\", []]),\n",
    "            dict(label=\"Cluster 0\",\n",
    "                 method=\"relayout\",\n",
    "                 args=[\"shapes\", cluster0]),\n",
    "            dict(label=\"Cluster 1\",\n",
    "                 method=\"relayout\",\n",
    "                 args=[\"shapes\", cluster1]),\n",
    "            dict(label=\"Cluster 2\",\n",
    "                 method=\"relayout\",\n",
    "                 args=[\"shapes\", cluster2]),\n",
    "            dict(label=\"All\",\n",
    "                 method=\"relayout\",\n",
    "                 args=[\"shapes\", cluster0 + cluster1 + cluster2])\n",
    "        ]),\n",
    "        )\n",
    "    ]\n",
    ")\n",
    "\n",
    "# Update remaining layout properties\n",
    "fig.update_layout(\n",
    "    title_text=\"Highlight Clusters\",\n",
    "    showlegend=False,\n",
    ")\n",
    "\n",
    "fig.show()"
   ]
  },
  {
   "cell_type": "code",
   "execution_count": null,
   "metadata": {
    "papermill": {
     "duration": null,
     "end_time": null,
     "exception": null,
     "start_time": null,
     "status": "completed"
    },
    "tags": []
   },
   "outputs": [],
   "source": [
    "import json\n",
    "#### Set up ndarray encoder\n",
    "class NumpyEncoder(json.JSONEncoder):\n",
    "    def default(self, obj):\n",
    "        if isinstance(obj, np.ndarray):\n",
    "            return obj.tolist()\n",
    "        return json.JSONEncoder.default(self, obj)\n",
    "\n",
    "fig1 = fig.to_plotly_json()\n",
    "with open('fig1.json', 'w') as outfile:\n",
    "    json.dump(fig1, outfile, cls=NumpyEncoder)\n"
   ]
  }
 ],
 "metadata": {
  "kernelspec": {
   "display_name": "Python [conda env:Python3]",
   "language": "python",
   "name": "conda-env-Python3-py"
  },
  "language_info": {
   "codemirror_mode": {
    "name": "ipython",
    "version": 3
   },
   "file_extension": ".py",
   "mimetype": "text/x-python",
   "name": "python",
   "nbconvert_exporter": "python",
   "pygments_lexer": "ipython3",
   "version": "3.6.10"
  },
  "papermill": {
   "duration": 0.974051,
   "end_time": "2020-06-09T13:28:13.806728",
   "environment_variables": {},
   "exception": null,
   "input_path": "fig1.ipynb",
   "output_path": "fig1run.ipynb",
   "parameters": {},
   "start_time": "2020-06-09T13:28:12.832677",
   "version": "2.1.1"
  }
 },
 "nbformat": 4,
 "nbformat_minor": 2
}